{
  "nbformat": 4,
  "nbformat_minor": 0,
  "metadata": {
    "colab": {
      "name": "07_ANNs_with_TFKeras.ipynb",
      "version": "0.3.2",
      "provenance": [],
      "collapsed_sections": []
    },
    "kernelspec": {
      "name": "python3",
      "display_name": "Python 3"
    }
  },
  "cells": [
    {
      "metadata": {
        "id": "9XZEvoDUdSKh",
        "colab_type": "text"
      },
      "cell_type": "markdown",
      "source": [
        "# Artificial Neural Networks with TensorFlow.Keras\n",
        "\n",
        "In this notebook we will see how to use TensorFlow to train ANNs and avoid needing to extract features like we did in the previous notebook.\n",
        "\n",
        "Let's grab the same digit data we used before!"
      ]
    },
    {
      "metadata": {
        "id": "3MIrMPcldSQZ",
        "colab_type": "code",
        "colab": {
          "base_uri": "https://localhost:8080/",
          "height": 34
        },
        "outputId": "d1bdef94-4f2f-4f34-e37f-9ebf18ab1fef"
      },
      "cell_type": "code",
      "source": [
        "! git clone https://github.com/Jakobovski/free-spoken-digit-dataset.git"
      ],
      "execution_count": 128,
      "outputs": [
        {
          "output_type": "stream",
          "text": [
            "fatal: destination path 'free-spoken-digit-dataset' already exists and is not an empty directory.\r\n"
          ],
          "name": "stdout"
        }
      ]
    },
    {
      "metadata": {
        "id": "qvpcS7sshZzF",
        "colab_type": "code",
        "colab": {}
      },
      "cell_type": "code",
      "source": [
        "import os\n",
        "os.chdir('free-spoken-digit-dataset/recordings')\n",
        "from keras.models import Sequential\n",
        "from keras.layers.core import Dense"
      ],
      "execution_count": 0,
      "outputs": []
    },
    {
      "metadata": {
        "id": "6m3pXT_QW5Il",
        "colab_type": "code",
        "colab": {
          "base_uri": "https://localhost:8080/",
          "height": 221
        },
        "outputId": "707ff074-66af-4a44-f298-4c44e3b65950"
      },
      "cell_type": "code",
      "source": [
        "import glob, os\n",
        "\n",
        "wavfiles = list()\n",
        "for file in glob.glob(\"*.wav\"):\n",
        "    wavfiles.append(file)\n",
        "\n",
        "num_points = len(wavfiles)\n",
        "\n",
        "print('{} data points\\n'.format(num_points))\n",
        "\n",
        "# list the first few files\n",
        "wavfiles[:10]\n",
        "\n"
      ],
      "execution_count": 130,
      "outputs": [
        {
          "output_type": "stream",
          "text": [
            "1500 data points\n",
            "\n"
          ],
          "name": "stdout"
        },
        {
          "output_type": "execute_result",
          "data": {
            "text/plain": [
              "['2_nicolas_14.wav',\n",
              " '5_nicolas_39.wav',\n",
              " '5_jackson_13.wav',\n",
              " '2_jackson_29.wav',\n",
              " '6_nicolas_11.wav',\n",
              " '2_jackson_34.wav',\n",
              " '9_jackson_15.wav',\n",
              " '2_nicolas_9.wav',\n",
              " '4_theo_33.wav',\n",
              " '6_jackson_20.wav']"
            ]
          },
          "metadata": {
            "tags": []
          },
          "execution_count": 130
        }
      ]
    },
    {
      "metadata": {
        "id": "dY2O4r5bW-j7",
        "colab_type": "code",
        "colab": {}
      },
      "cell_type": "code",
      "source": [
        "\n",
        "import numpy as np\n",
        "import scipy.io.wavfile\n",
        "from IPython.display import Audio\n",
        "import matplotlib.pyplot as plt\n",
        "import matplotlib\n",
        "import tensorflow as tf\n",
        "from sklearn import metrics\n",
        "import pandas as pd\n",
        "\n",
        "%matplotlib inline\n",
        "matplotlib.rcParams.update({'font.size': 16,'figure.figsize':(10,6)})\n"
      ],
      "execution_count": 0,
      "outputs": []
    },
    {
      "metadata": {
        "id": "pbB7aYMZ2gMs",
        "colab_type": "text"
      },
      "cell_type": "markdown",
      "source": [
        "## Load the data"
      ]
    },
    {
      "metadata": {
        "id": "ADKsZNPW4L8J",
        "colab_type": "code",
        "colab": {}
      },
      "cell_type": "code",
      "source": [
        "import re\n",
        "\n",
        "re_digit = re.compile('\\d+_')\n",
        "re_speaker = re.compile('_[a-z]+_')\n",
        "re_trial = re.compile('_\\d+.')\n",
        "\n",
        "X_data = np.ndarray(shape=(num_points,),dtype=object)\n",
        "y_labels = list()\n",
        "\n",
        "label='digit'"
      ],
      "execution_count": 0,
      "outputs": []
    },
    {
      "metadata": {
        "id": "9qcJGxFJ1fZC",
        "colab_type": "code",
        "colab": {
          "base_uri": "https://localhost:8080/",
          "height": 51
        },
        "outputId": "a1d558a7-eec0-4a43-ab69-d234738afa67"
      },
      "cell_type": "code",
      "source": [
        "ix = 0\n",
        "for sample_file in wavfiles:\n",
        "  try:\n",
        "    \n",
        "    digit = int(re.match( re_digit, sample_file)[0][:-1])\n",
        "    speaker = re.search( re_speaker, sample_file)[0][1:-1]\n",
        "\n",
        "    # read the file\n",
        "    (sample_rate, signal) = scipy.io.wavfile.read(sample_file)\n",
        "    \n",
        "    # some files have two channels... just take the first one\n",
        "    if len(signal.shape) == 2:\n",
        "      signal = signal[:,0]\n",
        "      \n",
        "    \n",
        "    X_data[ix,] = np.array(signal)\n",
        "    \n",
        "    ix+=1\n",
        "    \n",
        "    if label == 'speaker':\n",
        "      y_labels.append(speaker)\n",
        "      \n",
        "    elif label == 'digit':\n",
        "      y_labels.append(digit)\n",
        "      \n",
        "    else:\n",
        "      print(\"I don't know what you want to predict...\")\n",
        "      break\n",
        "      \n",
        "    \n",
        "  except Exception as e:\n",
        "    \n",
        "    # something went wrong!  =(\n",
        "    \n",
        "    print(sample_file)\n",
        "    print(e)\n",
        "    print(X_data.shape)\n",
        "    print(signal.shape)\n",
        "    \n",
        "    break\n"
      ],
      "execution_count": 133,
      "outputs": [
        {
          "output_type": "stream",
          "text": [
            "/usr/local/lib/python3.6/dist-packages/scipy/io/wavfile.py:273: WavFileWarning: Chunk (non-data) not understood, skipping it.\n",
            "  WavFileWarning)\n"
          ],
          "name": "stderr"
        }
      ]
    },
    {
      "metadata": {
        "id": "bjprxl4__Mb8",
        "colab_type": "text"
      },
      "cell_type": "markdown",
      "source": [
        "## Normalize the inputs\n",
        "Each .wav file is a different duration.  If we want to use the raw input as the signals, this will make our neural net cranky.  Let's artifically pad or truncate our input vectors so they're all the same length.  (Warning: we may lose data!)"
      ]
    },
    {
      "metadata": {
        "id": "rXTpE6du1fgv",
        "colab_type": "code",
        "colab": {
          "base_uri": "https://localhost:8080/",
          "height": 391
        },
        "outputId": "20f30dd8-f94e-44a3-c857-4276bb1d619f"
      },
      "cell_type": "code",
      "source": [
        "# Remove the mean from the data\n",
        "# For each data point:\n",
        "#   1) Remove the mean\n",
        "#   2) Make the length = 2000\n",
        "s_plot_ix = 1\n",
        "desired_length = 2000\n",
        "plt.subplot(2,1,1)\n",
        "plt.plot(X_data[s_plot_ix])\n",
        "\n",
        "for ix in range(X_data.shape[0]):\n",
        "  len_sig = X_data[ix].shape[0]\n",
        "  \n",
        "  if len_sig < desired_length:\n",
        "    pad_len = desired_length - len_sig\n",
        "    X_data[ix] = np.append(X_data[ix], np.mean(X_data[ix]) * np.ones(pad_len))\n",
        "  elif len_sig > desired_length:\n",
        "    X_data[ix] = X_data[ix][:desired_length]\n",
        "  \n",
        "  X_data[ix] = X_data[ix]-np.mean(X_data[ix])\n",
        "\n",
        "plt.subplot(2,1,2)\n",
        "plt.plot(X_data[s_plot_ix])"
      ],
      "execution_count": 134,
      "outputs": [
        {
          "output_type": "execute_result",
          "data": {
            "text/plain": [
              "[<matplotlib.lines.Line2D at 0x7f233970af28>]"
            ]
          },
          "metadata": {
            "tags": []
          },
          "execution_count": 134
        },
        {
          "output_type": "display_data",
          "data": {
            "image/png": "[encoded data removed]",
            "text/plain": [
              "<matplotlib.figure.Figure at 0x7f233ab09b00>"
            ]
          },
          "metadata": {
            "tags": []
          }
        }
      ]
    },
    {
      "metadata": {
        "id": "BwVVx3DaLybg",
        "colab_type": "code",
        "colab": {
          "base_uri": "https://localhost:8080/",
          "height": 51
        },
        "outputId": "ed1249d1-d355-4949-99ec-8907d856d69a"
      },
      "cell_type": "code",
      "source": [
        "# turn y_labels into categories (0,1,2)\n",
        "\n",
        "labels = np.array(list(set(y_labels)))\n",
        "print(labels)\n",
        "\n",
        "for yix in range(len(y_labels)):\n",
        "  y_labels[yix] = np.where(labels == y_labels[yix])[0][0]\n",
        "  \n",
        "print(set(y_labels))"
      ],
      "execution_count": 135,
      "outputs": [
        {
          "output_type": "stream",
          "text": [
            "[0 1 2 3 4 5 6 7 8 9]\n",
            "{0, 1, 2, 3, 4, 5, 6, 7, 8, 9}\n"
          ],
          "name": "stdout"
        }
      ]
    },
    {
      "metadata": {
        "id": "XZkW3thkFtPs",
        "colab_type": "text"
      },
      "cell_type": "markdown",
      "source": [
        "## Split data into test/train split"
      ]
    },
    {
      "metadata": {
        "id": "mANSzEFx1fo7",
        "colab_type": "code",
        "colab": {}
      },
      "cell_type": "code",
      "source": [
        "from sklearn.model_selection import train_test_split\n",
        "\n",
        "# split X and y into training and testing sets\n",
        "X_train, X_test, y_train, y_test = train_test_split(X_data, np.array(y_labels), test_size=0.25)"
      ],
      "execution_count": 0,
      "outputs": []
    },
    {
      "metadata": {
        "id": "1oGFU7vm1fmr",
        "colab_type": "code",
        "colab": {
          "base_uri": "https://localhost:8080/",
          "height": 51
        },
        "outputId": "3bac5ae5-5769-49a5-c34b-14dfd2942d7f"
      },
      "cell_type": "code",
      "source": [
        "print(X_train.shape)\n",
        "print(y_train.shape)"
      ],
      "execution_count": 137,
      "outputs": [
        {
          "output_type": "stream",
          "text": [
            "(1125,)\n",
            "(1125,)\n"
          ],
          "name": "stdout"
        }
      ]
    },
    {
      "metadata": {
        "id": "oNZex1ySHzGb",
        "colab_type": "text"
      },
      "cell_type": "markdown",
      "source": [
        "## Reformat the labels\n",
        "\n",
        "Next, we want to convert the labels from an integer format (e.g., \"2\"), to a [one hot encoding](https://en.wikipedia.org/wiki/One-hot) (e.g., \"0, 0, 1, 0, 0, 0, 0, 0, 0, 0\"). To do so, we'll use the `tf.keras.utils.to_categorical` [function](https://www.tensorflow.org/api_docs/python/tf/keras/utils/to_categorical) function."
      ]
    },
    {
      "metadata": {
        "id": "WAVsA9rk1fkd",
        "colab_type": "code",
        "colab": {}
      },
      "cell_type": "code",
      "source": [
        "NUM_DIGITS = 10\n",
        "\n",
        "y_train = tf.keras.utils.to_categorical(y_train, NUM_DIGITS)\n",
        "y_test = tf.keras.utils.to_categorical(y_test, NUM_DIGITS)"
      ],
      "execution_count": 0,
      "outputs": []
    },
    {
      "metadata": {
        "id": "DiaSczTAb042",
        "colab_type": "code",
        "colab": {}
      },
      "cell_type": "code",
      "source": [
        "# The X data is in a variable-length array, which will make TensorFlow cranky... we're going to hack something together to fix that\n",
        "\n",
        "\n",
        "X_train_df = pd.DataFrame()\n",
        "for xx in X_train:\n",
        "  X_train_df=X_train_df.append(pd.Series(xx),ignore_index=True)\n",
        "\n",
        "\n",
        "X_test_df = pd.DataFrame()\n",
        "for xx in X_test:\n",
        "  X_test_df=X_test_df.append(pd.Series(xx),ignore_index=True)"
      ],
      "execution_count": 0,
      "outputs": []
    },
    {
      "metadata": {
        "id": "Dr9q1Sd0NdIO",
        "colab_type": "text"
      },
      "cell_type": "markdown",
      "source": [
        "## Build the model\n",
        "\n",
        "Now, we'll create our neural network using the [Keras Sequential API](https://www.tensorflow.org/api_docs/python/tf/keras/Sequential). \n",
        "* Architecture wise, we'll single layer network. \n",
        "* The hidden layer will have 512 units using the [ReLU](https://www.tensorflow.org/api_docs/python/tf/keras/activations/relu) activation function. \n",
        "* The output layer will have 10 units and use [softmax](https://www.tensorflow.org/api_docs/python/tf/keras/activations/softmax) function. \n",
        "* Note: you will need to specify the input shape on the first layer. If you add subsequent layers, this is not necessary. \n",
        "* We will use the [categorical crossentropy](https://www.tensorflow.org/api_docs/python/tf/keras/losses/categorical_crossentropy) loss function, and the [RMSProp](https://www.tensorflow.org/api_docs/python/tf/keras/optimizers/RMSprop) optimizer."
      ]
    },
    {
      "metadata": {
        "id": "S9nggvb4HsYi",
        "colab_type": "code",
        "colab": {
          "base_uri": "https://localhost:8080/",
          "height": 204
        },
        "outputId": "6dd9df8f-56d8-4227-a800-4e3623538a10"
      },
      "cell_type": "code",
      "source": [
        "# Build a fully-connected ANN with one hidden layer\n",
        "\n",
        "model = Sequential()\n",
        "model.add(Dense(512, input_shape=X_train[0].shape, activation='relu'))   # hidden layer with 512 units and relu activation\n",
        "model.add(Dense(10, activation='softmax'))   # output layer with 10 units and softmax activation\n",
        "model.compile(loss='categorical_crossentropy',\n",
        "              optimizer='rmsprop',\n",
        "              metrics=['accuracy'])\n",
        "model.summary()"
      ],
      "execution_count": 140,
      "outputs": [
        {
          "output_type": "stream",
          "text": [
            "_________________________________________________________________\n",
            "Layer (type)                 Output Shape              Param #   \n",
            "=================================================================\n",
            "dense_33 (Dense)             (None, 512)               1024512   \n",
            "_________________________________________________________________\n",
            "dense_34 (Dense)             (None, 10)                5130      \n",
            "=================================================================\n",
            "Total params: 1,029,642\n",
            "Trainable params: 1,029,642\n",
            "Non-trainable params: 0\n",
            "_________________________________________________________________\n"
          ],
          "name": "stdout"
        }
      ]
    },
    {
      "metadata": {
        "id": "0eNUnAweNtnc",
        "colab_type": "text"
      },
      "cell_type": "markdown",
      "source": [
        "## Training\n",
        "\n",
        "Next, we will train the model by using the [fit method](https://www.tensorflow.org/api_docs/python/tf/keras/Sequential#fit) for 10 [epochs](https://www.quora.com/What-is-epochs-in-machine-learning). We will keep track of the training loss and accuracy as we go. Please be patient as this step may take a while depending on your hardware."
      ]
    },
    {
      "metadata": {
        "id": "W5YJMXeKHseP",
        "colab_type": "code",
        "colab": {
          "base_uri": "https://localhost:8080/",
          "height": 3794
        },
        "outputId": "e9490adb-155e-42a4-bab1-a412fdb93aac"
      },
      "cell_type": "code",
      "source": [
        "history = model.fit(X_train_df, y_train, epochs=100)\n",
        "\n",
        "# plot metrics\n",
        "plt.plot(history.history['acc'])\n",
        "plt.show()"
      ],
      "execution_count": 141,
      "outputs": [
        {
          "output_type": "stream",
          "text": [
            "Epoch 1/100\n",
            "1125/1125 [==============================] - 1s 1ms/step - loss: 13.4174 - acc: 0.1324\n",
            "Epoch 2/100\n",
            "1125/1125 [==============================] - 1s 722us/step - loss: 12.5919 - acc: 0.2053\n",
            "Epoch 3/100\n",
            "1125/1125 [==============================] - 1s 729us/step - loss: 12.4050 - acc: 0.2178\n",
            "Epoch 4/100\n",
            "1125/1125 [==============================] - 1s 727us/step - loss: 12.1413 - acc: 0.2373\n",
            "Epoch 5/100\n",
            "1125/1125 [==============================] - 1s 714us/step - loss: 12.0973 - acc: 0.2489\n",
            "Epoch 6/100\n",
            "1125/1125 [==============================] - 1s 727us/step - loss: 11.9648 - acc: 0.2569\n",
            "Epoch 7/100\n",
            "1125/1125 [==============================] - 1s 716us/step - loss: 11.8845 - acc: 0.2587\n",
            "Epoch 8/100\n",
            "1125/1125 [==============================] - 1s 727us/step - loss: 11.9447 - acc: 0.2524\n",
            "Epoch 9/100\n",
            "1125/1125 [==============================] - 1s 725us/step - loss: 11.9839 - acc: 0.2489\n",
            "Epoch 10/100\n",
            "1125/1125 [==============================] - 1s 743us/step - loss: 11.8337 - acc: 0.2631\n",
            "Epoch 11/100\n",
            "1125/1125 [==============================] - 1s 736us/step - loss: 11.6584 - acc: 0.2711\n",
            "Epoch 12/100\n",
            " 192/1125 [====>.........................] - ETA: 0s - loss: 11.6916 - acc: 0.2708"
          ],
          "name": "stdout"
        },
        {
          "output_type": "stream",
          "text": [
            "1125/1125 [==============================] - 1s 750us/step - loss: 11.5785 - acc: 0.2773\n",
            "Epoch 13/100\n",
            "1125/1125 [==============================] - 1s 741us/step - loss: 11.5467 - acc: 0.2818\n",
            "Epoch 14/100\n",
            "1125/1125 [==============================] - 1s 732us/step - loss: 11.5404 - acc: 0.2836\n",
            "Epoch 15/100\n",
            "1125/1125 [==============================] - 1s 730us/step - loss: 11.5052 - acc: 0.2862\n",
            "Epoch 16/100\n",
            "1125/1125 [==============================] - 1s 753us/step - loss: 11.4761 - acc: 0.2880\n",
            "Epoch 17/100\n",
            "1125/1125 [==============================] - 1s 735us/step - loss: 11.4761 - acc: 0.2880\n",
            "Epoch 18/100\n",
            "1125/1125 [==============================] - 1s 730us/step - loss: 11.4761 - acc: 0.2880\n",
            "Epoch 19/100\n",
            "1125/1125 [==============================] - 1s 728us/step - loss: 11.4904 - acc: 0.2871\n",
            "Epoch 20/100\n",
            "1125/1125 [==============================] - 1s 755us/step - loss: 11.4383 - acc: 0.2889\n",
            "Epoch 21/100\n",
            "1125/1125 [==============================] - 1s 732us/step - loss: 11.4015 - acc: 0.2907\n",
            "Epoch 22/100\n",
            "1125/1125 [==============================] - 1s 743us/step - loss: 11.4389 - acc: 0.2889\n",
            "Epoch 23/100\n",
            " 224/1125 [====>.........................] - ETA: 0s - loss: 11.0092 - acc: 0.3170"
          ],
          "name": "stdout"
        },
        {
          "output_type": "stream",
          "text": [
            "1125/1125 [==============================] - 1s 740us/step - loss: 11.2761 - acc: 0.2942\n",
            "Epoch 24/100\n",
            "1125/1125 [==============================] - 1s 727us/step - loss: 11.2815 - acc: 0.2969\n",
            "Epoch 25/100\n",
            "1125/1125 [==============================] - 1s 733us/step - loss: 11.2104 - acc: 0.3031\n",
            "Epoch 26/100\n",
            "1125/1125 [==============================] - 1s 728us/step - loss: 11.2182 - acc: 0.3040\n",
            "Epoch 27/100\n",
            "1125/1125 [==============================] - 1s 725us/step - loss: 11.2182 - acc: 0.3040\n",
            "Epoch 28/100\n",
            "1125/1125 [==============================] - 1s 730us/step - loss: 11.2325 - acc: 0.3031\n",
            "Epoch 29/100\n",
            "1125/1125 [==============================] - 1s 725us/step - loss: 11.2039 - acc: 0.3049\n",
            "Epoch 30/100\n",
            "1125/1125 [==============================] - 1s 730us/step - loss: 11.2182 - acc: 0.3040\n",
            "Epoch 31/100\n",
            "1125/1125 [==============================] - 1s 744us/step - loss: 11.2182 - acc: 0.3040\n",
            "Epoch 32/100\n",
            "1125/1125 [==============================] - 1s 733us/step - loss: 11.2182 - acc: 0.3040\n",
            "Epoch 33/100\n",
            "1125/1125 [==============================] - 1s 743us/step - loss: 11.2182 - acc: 0.3040\n",
            "Epoch 34/100\n",
            " 384/1125 [=========>....................] - ETA: 0s - loss: 10.7034 - acc: 0.3359"
          ],
          "name": "stdout"
        },
        {
          "output_type": "stream",
          "text": [
            "1125/1125 [==============================] - 1s 738us/step - loss: 11.2182 - acc: 0.3040\n",
            "Epoch 35/100\n",
            "1125/1125 [==============================] - 1s 759us/step - loss: 11.2182 - acc: 0.3040\n",
            "Epoch 36/100\n",
            "1125/1125 [==============================] - 1s 739us/step - loss: 11.2182 - acc: 0.3040\n",
            "Epoch 37/100\n",
            "1125/1125 [==============================] - 1s 742us/step - loss: 11.2182 - acc: 0.3040\n",
            "Epoch 38/100\n",
            "1125/1125 [==============================] - 1s 727us/step - loss: 11.2182 - acc: 0.3040\n",
            "Epoch 39/100\n",
            "1125/1125 [==============================] - 1s 740us/step - loss: 11.2182 - acc: 0.3040\n",
            "Epoch 40/100\n",
            "1125/1125 [==============================] - 1s 739us/step - loss: 11.2182 - acc: 0.3040\n",
            "Epoch 41/100\n",
            "1125/1125 [==============================] - 1s 746us/step - loss: 11.2182 - acc: 0.3040\n",
            "Epoch 42/100\n",
            "1125/1125 [==============================] - 1s 731us/step - loss: 11.2182 - acc: 0.3040\n",
            "Epoch 43/100\n",
            "1125/1125 [==============================] - 1s 749us/step - loss: 11.2182 - acc: 0.3040\n",
            "Epoch 44/100\n",
            "1125/1125 [==============================] - 1s 735us/step - loss: 11.2182 - acc: 0.3040\n",
            "Epoch 45/100\n",
            " 608/1125 [===============>..............] - ETA: 0s - loss: 11.3198 - acc: 0.2977"
          ],
          "name": "stdout"
        },
        {
          "output_type": "stream",
          "text": [
            "1125/1125 [==============================] - 1s 730us/step - loss: 11.2182 - acc: 0.3040\n",
            "Epoch 46/100\n",
            "1125/1125 [==============================] - 1s 731us/step - loss: 11.2182 - acc: 0.3040\n",
            "Epoch 47/100\n",
            "1125/1125 [==============================] - 1s 735us/step - loss: 11.2182 - acc: 0.3040\n",
            "Epoch 48/100\n",
            "1125/1125 [==============================] - 1s 739us/step - loss: 11.2182 - acc: 0.3040\n",
            "Epoch 49/100\n",
            "1125/1125 [==============================] - 1s 730us/step - loss: 11.2182 - acc: 0.3040\n",
            "Epoch 50/100\n",
            "1125/1125 [==============================] - 1s 743us/step - loss: 11.2182 - acc: 0.3040\n",
            "Epoch 51/100\n",
            "1125/1125 [==============================] - 1s 737us/step - loss: 11.2182 - acc: 0.3040\n",
            "Epoch 52/100\n",
            "1125/1125 [==============================] - 1s 728us/step - loss: 11.2182 - acc: 0.3040\n",
            "Epoch 53/100\n",
            "1125/1125 [==============================] - 1s 740us/step - loss: 11.2182 - acc: 0.3040\n",
            "Epoch 54/100\n",
            "1125/1125 [==============================] - 1s 737us/step - loss: 11.2182 - acc: 0.3040\n",
            "Epoch 55/100\n",
            "1125/1125 [==============================] - 1s 734us/step - loss: 11.2182 - acc: 0.3040\n",
            "Epoch 56/100\n",
            " 320/1125 [=======>......................] - ETA: 0s - loss: 11.5345 - acc: 0.2844"
          ],
          "name": "stdout"
        },
        {
          "output_type": "stream",
          "text": [
            "1125/1125 [==============================] - 1s 742us/step - loss: 11.2182 - acc: 0.3040\n",
            "Epoch 57/100\n",
            "1125/1125 [==============================] - 1s 736us/step - loss: 11.2182 - acc: 0.3040\n",
            "Epoch 58/100\n",
            "1125/1125 [==============================] - 1s 734us/step - loss: 11.2182 - acc: 0.3040\n",
            "Epoch 59/100\n",
            "1125/1125 [==============================] - 1s 724us/step - loss: 11.2182 - acc: 0.3040\n",
            "Epoch 60/100\n",
            "1125/1125 [==============================] - 1s 730us/step - loss: 11.2182 - acc: 0.3040\n",
            "Epoch 61/100\n",
            "1125/1125 [==============================] - 1s 731us/step - loss: 11.2182 - acc: 0.3040\n",
            "Epoch 62/100\n",
            "1125/1125 [==============================] - 1s 734us/step - loss: 11.2182 - acc: 0.3040\n",
            "Epoch 63/100\n",
            "1125/1125 [==============================] - 1s 739us/step - loss: 11.2182 - acc: 0.3040\n",
            "Epoch 64/100\n",
            "1125/1125 [==============================] - 1s 732us/step - loss: 11.2182 - acc: 0.3040\n",
            "Epoch 65/100\n",
            "1125/1125 [==============================] - 1s 727us/step - loss: 11.2182 - acc: 0.3040\n",
            "Epoch 66/100\n",
            "1125/1125 [==============================] - 1s 727us/step - loss: 11.2182 - acc: 0.3040\n",
            "Epoch 67/100\n",
            " 480/1125 [===========>..................] - ETA: 0s - loss: 11.4841 - acc: 0.2875"
          ],
          "name": "stdout"
        },
        {
          "output_type": "stream",
          "text": [
            "1125/1125 [==============================] - 1s 746us/step - loss: 11.2182 - acc: 0.3040\n",
            "Epoch 68/100\n",
            "1125/1125 [==============================] - 1s 731us/step - loss: 11.2182 - acc: 0.3040\n",
            "Epoch 69/100\n",
            "1125/1125 [==============================] - 1s 734us/step - loss: 11.2182 - acc: 0.3040\n",
            "Epoch 70/100\n",
            "1125/1125 [==============================] - 1s 739us/step - loss: 11.2182 - acc: 0.3040\n",
            "Epoch 71/100\n",
            "1125/1125 [==============================] - 1s 739us/step - loss: 11.2182 - acc: 0.3040\n",
            "Epoch 72/100\n",
            "1125/1125 [==============================] - 1s 748us/step - loss: 11.2182 - acc: 0.3040\n",
            "Epoch 73/100\n",
            "1125/1125 [==============================] - 1s 741us/step - loss: 11.2182 - acc: 0.3040\n",
            "Epoch 74/100\n",
            "1125/1125 [==============================] - 1s 738us/step - loss: 11.2182 - acc: 0.3040\n",
            "Epoch 75/100\n",
            "1125/1125 [==============================] - 1s 753us/step - loss: 11.2182 - acc: 0.3040\n",
            "Epoch 76/100\n",
            "1125/1125 [==============================] - 1s 742us/step - loss: 11.2182 - acc: 0.3040\n",
            "Epoch 77/100\n",
            "1125/1125 [==============================] - 1s 722us/step - loss: 11.2182 - acc: 0.3040\n",
            "Epoch 78/100\n",
            " 288/1125 [======>.......................] - ETA: 0s - loss: 10.4656 - acc: 0.3507"
          ],
          "name": "stdout"
        },
        {
          "output_type": "stream",
          "text": [
            "1125/1125 [==============================] - 1s 723us/step - loss: 11.2182 - acc: 0.3040\n",
            "Epoch 79/100\n",
            "1125/1125 [==============================] - 1s 749us/step - loss: 11.2182 - acc: 0.3040\n",
            "Epoch 80/100\n",
            "1125/1125 [==============================] - 1s 731us/step - loss: 11.2182 - acc: 0.3040\n",
            "Epoch 81/100\n",
            "1125/1125 [==============================] - 1s 715us/step - loss: 11.2182 - acc: 0.3040\n",
            "Epoch 82/100\n",
            "1125/1125 [==============================] - 1s 738us/step - loss: 11.2182 - acc: 0.3040\n",
            "Epoch 83/100\n",
            "1125/1125 [==============================] - 1s 727us/step - loss: 11.2182 - acc: 0.3040\n",
            "Epoch 84/100\n",
            "1125/1125 [==============================] - 1s 734us/step - loss: 11.2182 - acc: 0.3040\n",
            "Epoch 85/100\n",
            "1125/1125 [==============================] - 1s 730us/step - loss: 11.2182 - acc: 0.3040\n",
            "Epoch 86/100\n",
            "1125/1125 [==============================] - 1s 740us/step - loss: 11.2182 - acc: 0.3040\n",
            "Epoch 87/100\n",
            "1125/1125 [==============================] - 1s 729us/step - loss: 11.2182 - acc: 0.3040\n",
            "Epoch 88/100\n",
            "1125/1125 [==============================] - 1s 723us/step - loss: 11.2182 - acc: 0.3040\n",
            "Epoch 89/100\n",
            " 384/1125 [=========>....................] - ETA: 0s - loss: 11.5849 - acc: 0.2812"
          ],
          "name": "stdout"
        },
        {
          "output_type": "stream",
          "text": [
            "1125/1125 [==============================] - 1s 734us/step - loss: 11.2182 - acc: 0.3040\n",
            "Epoch 90/100\n",
            "1125/1125 [==============================] - 1s 724us/step - loss: 11.2182 - acc: 0.3040\n",
            "Epoch 91/100\n",
            "1125/1125 [==============================] - 1s 719us/step - loss: 11.2182 - acc: 0.3040\n",
            "Epoch 92/100\n",
            "1125/1125 [==============================] - 1s 731us/step - loss: 11.2182 - acc: 0.3040\n",
            "Epoch 93/100\n",
            "1125/1125 [==============================] - 1s 734us/step - loss: 11.2182 - acc: 0.3040\n",
            "Epoch 94/100\n",
            "1125/1125 [==============================] - 1s 731us/step - loss: 11.2182 - acc: 0.3040\n",
            "Epoch 95/100\n",
            "1125/1125 [==============================] - 1s 721us/step - loss: 11.2182 - acc: 0.3040\n",
            "Epoch 96/100\n",
            "1125/1125 [==============================] - 1s 737us/step - loss: 11.2182 - acc: 0.3040\n",
            "Epoch 97/100\n",
            "1125/1125 [==============================] - 1s 735us/step - loss: 11.2182 - acc: 0.3040\n",
            "Epoch 98/100\n",
            "1125/1125 [==============================] - 1s 730us/step - loss: 11.2182 - acc: 0.3040\n",
            "Epoch 99/100\n",
            "1125/1125 [==============================] - 1s 723us/step - loss: 11.2182 - acc: 0.3040\n",
            "Epoch 100/100\n",
            " 512/1125 [============>.................] - ETA: 0s - loss: 11.2701 - acc: 0.3008"
          ],
          "name": "stdout"
        },
        {
          "output_type": "stream",
          "text": [
            "1125/1125 [==============================] - 1s 718us/step - loss: 11.2182 - acc: 0.3040\n"
          ],
          "name": "stdout"
        },
        {
          "output_type": "display_data",
          "data": {
            "image/png": "[encoded data removed]",
            "text/plain": [
              "<matplotlib.figure.Figure at 0x7f2339775588>"
            ]
          },
          "metadata": {
            "tags": []
          }
        }
      ]
    },
    {
      "metadata": {
        "id": "SxkMOdLrT-2V",
        "colab_type": "text"
      },
      "cell_type": "markdown",
      "source": [
        "## Testing\n",
        "Now that we have trained our model, we want to evaluate it. The training accuracy wasn't great (~35%, depending on the random seed), but better than random (10%).  Let's see how well we do on our test data."
      ]
    },
    {
      "metadata": {
        "id": "86h3mYf5T_Bh",
        "colab_type": "code",
        "colab": {
          "base_uri": "https://localhost:8080/",
          "height": 51
        },
        "outputId": "3aec8575-18cb-4dfc-b189-864a0e304dba"
      },
      "cell_type": "code",
      "source": [
        "loss, accuracy = model.evaluate(X_test_df, y_test)\n",
        "print('Test accuracy: %.2f' % (accuracy))"
      ],
      "execution_count": 142,
      "outputs": [
        {
          "output_type": "stream",
          "text": [
            "375/375 [==============================] - 0s 506us/step\n",
            "Test accuracy: 0.15\n"
          ],
          "name": "stdout"
        }
      ]
    },
    {
      "metadata": {
        "id": "J6d-b_SrHsl2",
        "colab_type": "code",
        "colab": {
          "base_uri": "https://localhost:8080/",
          "height": 34
        },
        "outputId": "1ff2799f-81b5-4e3c-ff97-e4c8cb180350"
      },
      "cell_type": "code",
      "source": [
        "y_pred = model.predict_proba(X_test_df, verbose=1)\n",
        "\n",
        "ix_pred = [np.argmax(y) for y in y_pred]\n",
        "ix_true = [np.argmax(y) for y in y_test]"
      ],
      "execution_count": 143,
      "outputs": [
        {
          "output_type": "stream",
          "text": [
            "375/375 [==============================] - 0s 474us/step\n"
          ],
          "name": "stdout"
        }
      ]
    },
    {
      "metadata": {
        "id": "I0iiseNLWyBc",
        "colab_type": "code",
        "colab": {}
      },
      "cell_type": "code",
      "source": [
        "# Visualize the confusion matrix\n",
        "def plot_cmatrix(cm,labels,title='Confusion Matrix'):\n",
        "  fig = plt.figure()\n",
        "  ax = fig.add_subplot(111)\n",
        "  cax = ax.matshow(cm,cmap='Reds')\n",
        "  plt.title('\\n'+title+'\\n', fontsize=20)\n",
        "  fig.colorbar(cax)\n",
        "  ax.set_xticks(range(len(labels)))\n",
        "  ax.set_yticks(range(len(labels)))\n",
        "  ax.set_xticklabels(labels, fontsize=16)\n",
        "  ax.set_yticklabels(labels, fontsize=16)\n",
        "  plt.xlabel('Predicted', fontsize=16)\n",
        "  plt.ylabel('True', fontsize=16)\n",
        "  plt.show()"
      ],
      "execution_count": 0,
      "outputs": []
    },
    {
      "metadata": {
        "id": "ViciIqK4Xz9t",
        "colab_type": "code",
        "colab": {
          "base_uri": "https://localhost:8080/",
          "height": 457
        },
        "outputId": "a6afc0b7-02b8-45af-b36e-540f30585219"
      },
      "cell_type": "code",
      "source": [
        "cm = metrics.confusion_matrix(ix_true,ix_pred, range(10))\n",
        "plot_cmatrix(cm, range(10))"
      ],
      "execution_count": 145,
      "outputs": [
        {
          "output_type": "display_data",
          "data": {
            "image/png": "[encoded data removed]",
            "text/plain": [
              "<matplotlib.figure.Figure at 0x7f23397a3fd0>"
            ]
          },
          "metadata": {
            "tags": []
          }
        }
      ]
    },
    {
      "metadata": {
        "id": "hN0uqYX6ZmH7",
        "colab_type": "text"
      },
      "cell_type": "markdown",
      "source": [
        "### Conclusions\n",
        "As you can see, this is actually a pretty terrible classifier... \n",
        "* Play around with some of the model parameters to see if you can make it better.  Later we'll see how we can use convolutions to solve a similar problem!\n",
        "* Try to see if you can train a better classifier using the frequency spectrum instead of the raw signal.  You won't have to pad/truncate the data because the data should all be the same size in the frequency domain (assuming they are all sampled at the same rate, which they are)!"
      ]
    },
    {
      "metadata": {
        "id": "Hm8YdwHuZwPj",
        "colab_type": "code",
        "colab": {}
      },
      "cell_type": "code",
      "source": [
        ""
      ],
      "execution_count": 0,
      "outputs": []
    }
  ]
}