{
  "nbformat": 4,
  "nbformat_minor": 0,
  "metadata": {
    "colab": {
      "name": "07_ANNs_with_TFKeras.ipynb",
      "version": "0.3.2",
      "provenance": [],
      "collapsed_sections": []
    },
    "kernelspec": {
      "name": "python3",
      "display_name": "Python 3"
    }
  },
  "cells": [
    {
      "metadata": {
        "id": "9XZEvoDUdSKh",
        "colab_type": "text"
      },
      "cell_type": "markdown",
      "source": [
        "# Artificial Neural Networks with TensorFlow.Keras\n",
        "\n",
        "In this notebook we will see how to use TensorFlow to train ANNs and avoid needing to extract features like we did in the previous notebook.\n",
        "\n",
        "Let's grab the same digit data we used before!"
      ]
    },
    {
      "metadata": {
        "id": "3MIrMPcldSQZ",
        "colab_type": "code",
        "colab": {
          "base_uri": "https://localhost:8080/",
          "height": 34
        },
        "outputId": "1633af86-84be-4eae-e3e2-b269d06d3327"
      },
      "cell_type": "code",
      "source": [
        "! git clone https://github.com/Jakobovski/free-spoken-digit-dataset.git"
      ],
      "execution_count": 114,
      "outputs": [
        {
          "output_type": "stream",
          "text": [
            "fatal: destination path 'free-spoken-digit-dataset' already exists and is not an empty directory.\r\n"
          ],
          "name": "stdout"
        }
      ]
    },
    {
      "metadata": {
        "id": "qvpcS7sshZzF",
        "colab_type": "code",
        "colab": {}
      },
      "cell_type": "code",
      "source": [
        "import os\n",
        "os.chdir('free-spoken-digit-dataset/recordings')\n",
        "from keras.models import Sequential\n",
        "from keras.layers.core import Dense"
      ],
      "execution_count": 0,
      "outputs": []
    },
    {
      "metadata": {
        "id": "6m3pXT_QW5Il",
        "colab_type": "code",
        "colab": {
          "base_uri": "https://localhost:8080/",
          "height": 221
        },
        "outputId": "1e0f7ab6-d31a-4d9f-96b2-0ca465939180"
      },
      "cell_type": "code",
      "source": [
        "import glob, os\n",
        "\n",
        "wavfiles = list()\n",
        "for file in glob.glob(\"*.wav\"):\n",
        "    wavfiles.append(file)\n",
        "\n",
        "num_points = len(wavfiles)\n",
        "\n",
        "print('{} data points\\n'.format(num_points))\n",
        "\n",
        "# list the first few files\n",
        "wavfiles[:10]\n",
        "\n"
      ],
      "execution_count": 116,
      "outputs": [
        {
          "output_type": "stream",
          "text": [
            "1500 data points\n",
            "\n"
          ],
          "name": "stdout"
        },
        {
          "output_type": "execute_result",
          "data": {
            "text/plain": [
              "['2_nicolas_14.wav',\n",
              " '5_nicolas_39.wav',\n",
              " '5_jackson_13.wav',\n",
              " '2_jackson_29.wav',\n",
              " '6_nicolas_11.wav',\n",
              " '2_jackson_34.wav',\n",
              " '9_jackson_15.wav',\n",
              " '2_nicolas_9.wav',\n",
              " '4_theo_33.wav',\n",
              " '6_jackson_20.wav']"
            ]
          },
          "metadata": {
            "tags": []
          },
          "execution_count": 116
        }
      ]
    },
    {
      "metadata": {
        "id": "dY2O4r5bW-j7",
        "colab_type": "code",
        "colab": {}
      },
      "cell_type": "code",
      "source": [
        "\n",
        "import numpy as np\n",
        "import scipy.io.wavfile\n",
        "from IPython.display import Audio\n",
        "import matplotlib.pyplot as plt\n",
        "import matplotlib\n",
        "import tensorflow as tf\n",
        "from sklearn import metrics\n",
        "import pandas as pd\n",
        "\n",
        "%matplotlib inline\n",
        "matplotlib.rcParams.update({'font.size': 16,'figure.figsize':(10,6)})\n"
      ],
      "execution_count": 0,
      "outputs": []
    },
    {
      "metadata": {
        "id": "pbB7aYMZ2gMs",
        "colab_type": "text"
      },
      "cell_type": "markdown",
      "source": [
        "## Load the data"
      ]
    },
    {
      "metadata": {
        "id": "ADKsZNPW4L8J",
        "colab_type": "code",
        "colab": {}
      },
      "cell_type": "code",
      "source": [
        "import re\n",
        "\n",
        "re_digit = re.compile('\\d+_')\n",
        "re_speaker = re.compile('_[a-z]+_')\n",
        "re_trial = re.compile('_\\d+.')\n",
        "\n",
        "X_data = np.ndarray(shape=(num_points,),dtype=object)\n",
        "y_labels = list()\n",
        "\n",
        "label='digit'"
      ],
      "execution_count": 0,
      "outputs": []
    },
    {
      "metadata": {
        "id": "9qcJGxFJ1fZC",
        "colab_type": "code",
        "colab": {
          "base_uri": "https://localhost:8080/",
          "height": 51
        },
        "outputId": "b349274c-4d1e-410c-ce8c-da1c79ef0bfe"
      },
      "cell_type": "code",
      "source": [
        "ix = 0\n",
        "for sample_file in wavfiles:\n",
        "  try:\n",
        "    \n",
        "    digit = int(re.match( re_digit, sample_file)[0][:-1])\n",
        "    speaker = re.search( re_speaker, sample_file)[0][1:-1]\n",
        "\n",
        "    # read the file\n",
        "    (sample_rate, signal) = scipy.io.wavfile.read(sample_file)\n",
        "    \n",
        "    # some files have two channels... just take the first one\n",
        "    if len(signal.shape) == 2:\n",
        "      signal = signal[:,0]\n",
        "      \n",
        "    \n",
        "    X_data[ix,] = np.array(signal)\n",
        "    \n",
        "    ix+=1\n",
        "    \n",
        "    if label == 'speaker':\n",
        "      y_labels.append(speaker)\n",
        "      \n",
        "    elif label == 'digit':\n",
        "      y_labels.append(digit)\n",
        "      \n",
        "    else:\n",
        "      print(\"I don't know what you want to predict...\")\n",
        "      break\n",
        "      \n",
        "    \n",
        "  except Exception as e:\n",
        "    \n",
        "    # something went wrong!  =(\n",
        "    \n",
        "    print(sample_file)\n",
        "    print(e)\n",
        "    print(X_data.shape)\n",
        "    print(signal.shape)\n",
        "    \n",
        "    break\n"
      ],
      "execution_count": 119,
      "outputs": [
        {
          "output_type": "stream",
          "text": [
            "/usr/local/lib/python3.6/dist-packages/scipy/io/wavfile.py:273: WavFileWarning: Chunk (non-data) not understood, skipping it.\n",
            "  WavFileWarning)\n"
          ],
          "name": "stderr"
        }
      ]
    },
    {
      "metadata": {
        "id": "bjprxl4__Mb8",
        "colab_type": "text"
      },
      "cell_type": "markdown",
      "source": [
        "## Normalize the inputs\n",
        "Each .wav file is a different duration.  If we want to use the raw input as the signals, this will make our neural net cranky.  Let's artifically pad or truncate our input vectors so they're all the same length.  (Warning: we may lose data!)"
      ]
    },
    {
      "metadata": {
        "id": "rXTpE6du1fgv",
        "colab_type": "code",
        "colab": {
          "base_uri": "https://localhost:8080/",
          "height": 391
        },
        "outputId": "cb53d0b1-e775-4883-eb55-8684e538856c"
      },
      "cell_type": "code",
      "source": [
        "# Remove the mean from the data\n",
        "# For each data point:\n",
        "#   1) Remove the mean\n",
        "#   2) Make the length = 2000\n",
        "s_plot_ix = 1\n",
        "desired_length = 2000\n",
        "plt.subplot(2,1,1)\n",
        "plt.plot(X_data[s_plot_ix])\n",
        "\n",
        "for ix in range(X_data.shape[0]):\n",
        "  len_sig = X_data[ix].shape[0]\n",
        "  \n",
        "  if len_sig < desired_length:\n",
        "    pad_len = desired_length - len_sig\n",
        "    X_data[ix] = np.append(X_data[ix], np.mean(X_data[ix]) * np.ones(pad_len))\n",
        "  elif len_sig > desired_length:\n",
        "    X_data[ix] = X_data[ix][:desired_length]\n",
        "  \n",
        "  X_data[ix] = X_data[ix]-np.mean(X_data[ix])\n",
        "\n",
        "plt.subplot(2,1,2)\n",
        "plt.plot(X_data[s_plot_ix])"
      ],
      "execution_count": 120,
      "outputs": [
        {
          "output_type": "execute_result",
          "data": {
            "text/plain": [
              "[<matplotlib.lines.Line2D at 0x7f2339ae4ac8>]"
            ]
          },
          "metadata": {
            "tags": []
          },
          "execution_count": 120
        },
        {
          "output_type": "display_data",
          "data": {
            "image/png": "[encoded data removed]",
            "text/plain": [
              "<matplotlib.figure.Figure at 0x7f2339fff4a8>"
            ]
          },
          "metadata": {
            "tags": []
          }
        }
      ]
    },
    {
      "metadata": {
        "id": "BwVVx3DaLybg",
        "colab_type": "code",
        "colab": {
          "base_uri": "https://localhost:8080/",
          "height": 51
        },
        "outputId": "6934ae00-4693-40a8-f1c1-7047406bcf44"
      },
      "cell_type": "code",
      "source": [
        "# turn y_labels into categories (0,1,2)\n",
        "\n",
        "labels = np.array(list(set(y_labels)))\n",
        "print(labels)\n",
        "\n",
        "for yix in range(len(y_labels)):\n",
        "  y_labels[yix] = np.where(labels == y_labels[yix])[0][0]\n",
        "  \n",
        "print(set(y_labels))"
      ],
      "execution_count": 121,
      "outputs": [
        {
          "output_type": "stream",
          "text": [
            "[0 1 2 3 4 5 6 7 8 9]\n",
            "{0, 1, 2, 3, 4, 5, 6, 7, 8, 9}\n"
          ],
          "name": "stdout"
        }
      ]
    },
    {
      "metadata": {
        "id": "XZkW3thkFtPs",
        "colab_type": "text"
      },
      "cell_type": "markdown",
      "source": [
        "## Split data into test/train split"
      ]
    },
    {
      "metadata": {
        "id": "mANSzEFx1fo7",
        "colab_type": "code",
        "colab": {}
      },
      "cell_type": "code",
      "source": [
        "from sklearn.model_selection import train_test_split\n",
        "\n",
        "# split X and y into training and testing sets\n",
        "X_train, X_test, y_train, y_test = train_test_split(X_data, np.array(y_labels), test_size=0.25)"
      ],
      "execution_count": 0,
      "outputs": []
    },
    {
      "metadata": {
        "id": "1oGFU7vm1fmr",
        "colab_type": "code",
        "colab": {
          "base_uri": "https://localhost:8080/",
          "height": 51
        },
        "outputId": "a299a17e-192a-4ed2-d970-e7d9d190a676"
      },
      "cell_type": "code",
      "source": [
        "print(X_train.shape)\n",
        "print(y_train.shape)"
      ],
      "execution_count": 123,
      "outputs": [
        {
          "output_type": "stream",
          "text": [
            "(1125,)\n",
            "(1125,)\n"
          ],
          "name": "stdout"
        }
      ]
    },
    {
      "metadata": {
        "id": "oNZex1ySHzGb",
        "colab_type": "text"
      },
      "cell_type": "markdown",
      "source": [
        "## Reformat the labels\n",
        "\n",
        "Next, we want to convert the labels from an integer format (e.g., \"2\"), to a [one hot encoding](https://en.wikipedia.org/wiki/One-hot) (e.g., \"0, 0, 1, 0, 0, 0, 0, 0, 0, 0\"). To do so, we'll use the `tf.keras.utils.to_categorical` [function](https://www.tensorflow.org/api_docs/python/tf/keras/utils/to_categorical) function."
      ]
    },
    {
      "metadata": {
        "id": "WAVsA9rk1fkd",
        "colab_type": "code",
        "colab": {}
      },
      "cell_type": "code",
      "source": [
        "NUM_DIGITS = 10\n",
        "\n",
        "y_train = tf.keras.utils.to_categorical(y_train, NUM_DIGITS)\n",
        "y_test = tf.keras.utils.to_categorical(y_test, NUM_DIGITS)"
      ],
      "execution_count": 0,
      "outputs": []
    },
    {
      "metadata": {
        "id": "DiaSczTAb042",
        "colab_type": "code",
        "colab": {}
      },
      "cell_type": "code",
      "source": [
        "# The X data is in a variable-length array, which will make TensorFlow cranky... we're going to hack something together to fix that\n",
        "\n",
        "\n",
        "X_train_df = pd.DataFrame()\n",
        "for xx in X_train:\n",
        "  X_train_df=X_train_df.append(pd.Series(xx),ignore_index=True)\n",
        "\n",
        "\n",
        "X_test_df = pd.DataFrame()\n",
        "for xx in X_test:\n",
        "  X_test_df=X_test_df.append(pd.Series(xx),ignore_index=True)"
      ],
      "execution_count": 0,
      "outputs": []
    },
    {
      "metadata": {
        "id": "Dr9q1Sd0NdIO",
        "colab_type": "text"
      },
      "cell_type": "markdown",
      "source": [
        "## Build the model\n",
        "\n",
        "Now, we'll create our neural network using the [Keras Sequential API](https://www.tensorflow.org/api_docs/python/tf/keras/Sequential). \n",
        "* Architecture wise, we'll single layer network. \n",
        "* The hidden layer will have 512 units using the [ReLU](https://www.tensorflow.org/api_docs/python/tf/keras/activations/relu) activation function. \n",
        "* The output layer will have 10 units and use [softmax](https://www.tensorflow.org/api_docs/python/tf/keras/activations/softmax) function. \n",
        "* Note: you will need to specify the input shape on the first layer. If you add subsequent layers, this is not necessary. \n",
        "* We will use the [categorical crossentropy](https://www.tensorflow.org/api_docs/python/tf/keras/losses/categorical_crossentropy) loss function, and the [RMSProp](https://www.tensorflow.org/api_docs/python/tf/keras/optimizers/RMSprop) optimizer."
      ]
    },
    {
      "metadata": {
        "id": "S9nggvb4HsYi",
        "colab_type": "code",
        "colab": {
          "base_uri": "https://localhost:8080/",
          "height": 204
        },
        "outputId": "8b76eb14-54d5-465e-b257-9c915007cd4a"
      },
      "cell_type": "code",
      "source": [
        "# Build a fully-connected ANN with one hidden layer\n",
        "\n",
        "model = Sequential()\n",
        "model.add(Dense(512, input_shape=X_train[0].shape, activation='relu'))   # hidden layer with 512 units and relu activation\n",
        "model.add(Dense(10, activation='softmax'))   # output layer with 10 units and softmax activation\n",
        "model.compile(loss='categorical_crossentropy',\n",
        "              optimizer='rmsprop',\n",
        "              metrics=['accuracy'])\n",
        "model.summary()"
      ],
      "execution_count": 126,
      "outputs": [
        {
          "output_type": "stream",
          "text": [
            "_________________________________________________________________\n",
            "Layer (type)                 Output Shape              Param #   \n",
            "=================================================================\n",
            "dense_31 (Dense)             (None, 512)               1024512   \n",
            "_________________________________________________________________\n",
            "dense_32 (Dense)             (None, 10)                5130      \n",
            "=================================================================\n",
            "Total params: 1,029,642\n",
            "Trainable params: 1,029,642\n",
            "Non-trainable params: 0\n",
            "_________________________________________________________________\n"
          ],
          "name": "stdout"
        }
      ]
    },
    {
      "metadata": {
        "id": "0eNUnAweNtnc",
        "colab_type": "text"
      },
      "cell_type": "markdown",
      "source": [
        "## Training\n",
        "\n",
        "Next, we will train the model by using the [fit method](https://www.tensorflow.org/api_docs/python/tf/keras/Sequential#fit) for 10 [epochs](https://www.quora.com/What-is-epochs-in-machine-learning). We will keep track of the training loss and accuracy as we go. Please be patient as this step may take a while depending on your hardware."
      ]
    },
    {
      "metadata": {
        "id": "W5YJMXeKHseP",
        "colab_type": "code",
        "colab": {
          "base_uri": "https://localhost:8080/",
          "height": 1737
        },
        "outputId": "d4616b14-7fc3-4cbb-a5b8-bef564c43e74"
      },
      "cell_type": "code",
      "source": [
        "history = model.fit(X_train_df, y_train, epochs=100)\n",
        "\n",
        "# plot metrics\n",
        "plt.plot(history.history['acc'])\n",
        "plt.show()"
      ],
      "execution_count": 0,
      "outputs": [
        {
          "output_type": "stream",
          "text": [
            "Epoch 1/100\n",
            "1125/1125 [==============================] - 1s 1ms/step - loss: 13.5534 - acc: 0.1218\n",
            "Epoch 2/100\n",
            "1125/1125 [==============================] - 1s 737us/step - loss: 12.7552 - acc: 0.1920\n",
            "Epoch 3/100\n",
            "1125/1125 [==============================] - 1s 745us/step - loss: 12.3579 - acc: 0.2267\n",
            "Epoch 4/100\n",
            "1125/1125 [==============================] - 1s 752us/step - loss: 12.0022 - acc: 0.2498\n",
            "Epoch 5/100\n",
            "1125/1125 [==============================] - 1s 726us/step - loss: 11.7823 - acc: 0.2649\n",
            "Epoch 6/100\n",
            "1125/1125 [==============================] - 1s 729us/step - loss: 11.6430 - acc: 0.2720\n",
            "Epoch 7/100\n",
            "1125/1125 [==============================] - 1s 734us/step - loss: 11.5692 - acc: 0.2756\n",
            "Epoch 8/100\n",
            "1125/1125 [==============================] - 1s 721us/step - loss: 11.4783 - acc: 0.2827\n",
            "Epoch 9/100\n",
            "1125/1125 [==============================] - 1s 730us/step - loss: 11.3293 - acc: 0.2933\n",
            "Epoch 10/100\n",
            "1125/1125 [==============================] - 1s 739us/step - loss: 11.2545 - acc: 0.2987\n",
            "Epoch 11/100\n",
            "1125/1125 [==============================] - 1s 738us/step - loss: 11.2914 - acc: 0.2960\n",
            "Epoch 12/100\n",
            " 128/1125 [==>...........................] - ETA: 0s - loss: 10.9553 - acc: 0.3203"
          ],
          "name": "stdout"
        },
        {
          "output_type": "stream",
          "text": [
            "1125/1125 [==============================] - 1s 714us/step - loss: 11.1966 - acc: 0.3049\n",
            "Epoch 13/100\n",
            "1125/1125 [==============================] - 1s 745us/step - loss: 11.2362 - acc: 0.3013\n",
            "Epoch 14/100\n",
            "1125/1125 [==============================] - 1s 732us/step - loss: 11.1647 - acc: 0.3067\n",
            "Epoch 15/100\n",
            "1125/1125 [==============================] - 1s 724us/step - loss: 11.2125 - acc: 0.3022\n",
            "Epoch 16/100\n",
            "1125/1125 [==============================] - 1s 738us/step - loss: 11.2397 - acc: 0.2996\n",
            "Epoch 17/100\n",
            "1125/1125 [==============================] - 1s 728us/step - loss: 11.2936 - acc: 0.2978\n",
            "Epoch 18/100\n",
            "1125/1125 [==============================] - 1s 734us/step - loss: 11.2852 - acc: 0.2987\n",
            "Epoch 19/100\n",
            "1125/1125 [==============================] - 1s 722us/step - loss: 11.2765 - acc: 0.2978\n",
            "Epoch 20/100\n",
            "1125/1125 [==============================] - 1s 730us/step - loss: 11.1983 - acc: 0.3031\n",
            "Epoch 21/100\n",
            "1125/1125 [==============================] - 1s 727us/step - loss: 11.1331 - acc: 0.3084\n",
            "Epoch 22/100\n",
            "1125/1125 [==============================] - 1s 735us/step - loss: 11.1352 - acc: 0.3076\n",
            "Epoch 23/100\n",
            " 352/1125 [========>.....................] - ETA: 0s - loss: 11.4349 - acc: 0.2898"
          ],
          "name": "stdout"
        },
        {
          "output_type": "stream",
          "text": [
            "1125/1125 [==============================] - 1s 742us/step - loss: 11.1115 - acc: 0.3093\n",
            "Epoch 24/100\n",
            "1125/1125 [==============================] - 1s 718us/step - loss: 11.0463 - acc: 0.3147\n",
            "Epoch 25/100\n",
            "1125/1125 [==============================] - 1s 723us/step - loss: 11.0475 - acc: 0.3138\n",
            "Epoch 26/100\n",
            "1125/1125 [==============================] - 1s 712us/step - loss: 11.0288 - acc: 0.3147\n",
            "Epoch 27/100\n",
            "1125/1125 [==============================] - 1s 719us/step - loss: 11.0574 - acc: 0.3138\n",
            "Epoch 28/100\n",
            "1125/1125 [==============================] - 1s 723us/step - loss: 11.0197 - acc: 0.3156\n",
            "Epoch 29/100\n",
            "1125/1125 [==============================] - 1s 712us/step - loss: 10.9890 - acc: 0.3182\n",
            "Epoch 30/100\n",
            "1125/1125 [==============================] - 1s 722us/step - loss: 11.0176 - acc: 0.3164\n",
            "Epoch 31/100\n",
            "1125/1125 [==============================] - 1s 715us/step - loss: 11.0176 - acc: 0.3164\n",
            "Epoch 32/100\n",
            "1125/1125 [==============================] - 1s 708us/step - loss: 11.0176 - acc: 0.3164\n",
            "Epoch 33/100\n",
            "1125/1125 [==============================] - 1s 727us/step - loss: 11.0176 - acc: 0.3164\n",
            "Epoch 34/100\n",
            " 320/1125 [=======>......................] - ETA: 0s - loss: 11.3330 - acc: 0.2969"
          ],
          "name": "stdout"
        },
        {
          "output_type": "stream",
          "text": [
            "1125/1125 [==============================] - 1s 725us/step - loss: 11.0176 - acc: 0.3164\n",
            "Epoch 35/100\n",
            "1125/1125 [==============================] - 1s 747us/step - loss: 11.0176 - acc: 0.3164\n",
            "Epoch 36/100\n",
            "1125/1125 [==============================] - 1s 743us/step - loss: 11.0176 - acc: 0.3164\n",
            "Epoch 37/100\n",
            "1125/1125 [==============================] - 1s 742us/step - loss: 11.0176 - acc: 0.3164\n",
            "Epoch 38/100\n",
            "1125/1125 [==============================] - 1s 742us/step - loss: 11.0176 - acc: 0.3164\n",
            "Epoch 39/100\n",
            "1125/1125 [==============================] - 1s 732us/step - loss: 11.0176 - acc: 0.3164\n",
            "Epoch 40/100\n",
            "1125/1125 [==============================] - 1s 737us/step - loss: 11.0176 - acc: 0.3164\n",
            "Epoch 41/100\n",
            "1125/1125 [==============================] - 1s 741us/step - loss: 11.0176 - acc: 0.3164\n",
            "Epoch 42/100\n",
            "1125/1125 [==============================] - 1s 747us/step - loss: 11.0176 - acc: 0.3164\n",
            "Epoch 43/100\n",
            "1125/1125 [==============================] - 1s 735us/step - loss: 11.0176 - acc: 0.3164\n",
            "Epoch 44/100\n",
            "1125/1125 [==============================] - 1s 735us/step - loss: 11.0176 - acc: 0.3164\n",
            "Epoch 45/100\n",
            " 224/1125 [====>.........................] - ETA: 0s - loss: 11.0812 - acc: 0.3125"
          ],
          "name": "stdout"
        },
        {
          "output_type": "stream",
          "text": [
            "1125/1125 [==============================] - 1s 729us/step - loss: 11.0176 - acc: 0.3164\n",
            "Epoch 46/100\n",
            "1125/1125 [==============================] - 1s 740us/step - loss: 11.0176 - acc: 0.3164\n",
            "Epoch 47/100\n",
            "1125/1125 [==============================] - 1s 753us/step - loss: 11.0176 - acc: 0.3164\n",
            "Epoch 48/100\n",
            "1125/1125 [==============================] - 1s 745us/step - loss: 11.0176 - acc: 0.3164\n",
            "Epoch 49/100\n",
            "1125/1125 [==============================] - 1s 755us/step - loss: 11.0176 - acc: 0.3164\n",
            "Epoch 50/100\n",
            "1125/1125 [==============================] - 1s 749us/step - loss: 11.0176 - acc: 0.3164\n",
            "Epoch 51/100\n",
            " 224/1125 [====>.........................] - ETA: 0s - loss: 11.7288 - acc: 0.2723"
          ],
          "name": "stdout"
        }
      ]
    },
    {
      "metadata": {
        "id": "SxkMOdLrT-2V",
        "colab_type": "text"
      },
      "cell_type": "markdown",
      "source": [
        "## Testing\n",
        "Now that we have trained our model, we want to evaluate it. The training accuracy wasn't great (~35%, depending on the random seed), but better than random (10%).  Let's see how well we do on our test data."
      ]
    },
    {
      "metadata": {
        "id": "86h3mYf5T_Bh",
        "colab_type": "code",
        "colab": {
          "base_uri": "https://localhost:8080/",
          "height": 51
        },
        "outputId": "19b3d551-3fcc-485d-f6cf-85472674b9d6"
      },
      "cell_type": "code",
      "source": [
        "loss, accuracy = model.evaluate(X_test_df, y_test)\n",
        "print('Test accuracy: %.2f' % (accuracy))"
      ],
      "execution_count": 110,
      "outputs": [
        {
          "output_type": "stream",
          "text": [
            "375/375 [==============================] - 0s 409us/step\n",
            "Test accuracy: 0.15\n"
          ],
          "name": "stdout"
        }
      ]
    },
    {
      "metadata": {
        "id": "J6d-b_SrHsl2",
        "colab_type": "code",
        "colab": {
          "base_uri": "https://localhost:8080/",
          "height": 34
        },
        "outputId": "9d5f63df-edcd-4d46-8a16-4dab510f1e05"
      },
      "cell_type": "code",
      "source": [
        "y_pred = model.predict_proba(X_test_df, verbose=1)\n",
        "\n",
        "ix_pred = [np.argmax(y) for y in y_pred]\n",
        "ix_true = [np.argmax(y) for y in y_test]"
      ],
      "execution_count": 111,
      "outputs": [
        {
          "output_type": "stream",
          "text": [
            "375/375 [==============================] - 0s 364us/step\n"
          ],
          "name": "stdout"
        }
      ]
    },
    {
      "metadata": {
        "id": "I0iiseNLWyBc",
        "colab_type": "code",
        "colab": {}
      },
      "cell_type": "code",
      "source": [
        "# Visualize the confusion matrix\n",
        "def plot_cmatrix(cm,labels,title='Confusion Matrix'):\n",
        "  fig = plt.figure()\n",
        "  ax = fig.add_subplot(111)\n",
        "  cax = ax.matshow(cm,cmap='Reds')\n",
        "  plt.title('\\n'+title+'\\n', fontsize=20)\n",
        "  fig.colorbar(cax)\n",
        "  ax.set_xticks(range(len(labels)))\n",
        "  ax.set_yticks(range(len(labels)))\n",
        "  ax.set_xticklabels(labels, fontsize=16)\n",
        "  ax.set_yticklabels(labels, fontsize=16)\n",
        "  plt.xlabel('Predicted', fontsize=16)\n",
        "  plt.ylabel('True', fontsize=16)\n",
        "  plt.show()"
      ],
      "execution_count": 0,
      "outputs": []
    },
    {
      "metadata": {
        "id": "ViciIqK4Xz9t",
        "colab_type": "code",
        "colab": {
          "base_uri": "https://localhost:8080/",
          "height": 457
        },
        "outputId": "3e83ed60-f7c1-46de-966f-4842a7e7942e"
      },
      "cell_type": "code",
      "source": [
        "cm = metrics.confusion_matrix(ix_true,ix_pred, range(10))\n",
        "plot_cmatrix(cm, range(10))"
      ],
      "execution_count": 113,
      "outputs": [
        {
          "output_type": "display_data",
          "data": {
            "image/png": "[encoded data removed]",
            "text/plain": [
              "<matplotlib.figure.Figure at 0x7f233a01aac8>"
            ]
          },
          "metadata": {
            "tags": []
          }
        }
      ]
    },
    {
      "metadata": {
        "id": "hN0uqYX6ZmH7",
        "colab_type": "text"
      },
      "cell_type": "markdown",
      "source": [
        "### Conclusions\n",
        "As you can see, this is actually a pretty terrible classifier... \n",
        "* Play around with some of the model parameters to see if you can make it better.  Later we'll see how we can use convolutions to solve a similar problem!\n",
        "* Try to see if you can train a better classifier using the frequency spectrum instead of the raw signal.  You won't have to pad/truncate the data because the data should all be the same size in the frequency domain (assuming they are all sampled at the same rate, which they are)!"
      ]
    },
    {
      "metadata": {
        "id": "Hm8YdwHuZwPj",
        "colab_type": "code",
        "colab": {}
      },
      "cell_type": "code",
      "source": [
        ""
      ],
      "execution_count": 0,
      "outputs": []
    }
  ]
}