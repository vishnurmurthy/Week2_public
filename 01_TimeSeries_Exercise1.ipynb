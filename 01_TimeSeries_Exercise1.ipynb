{
  "nbformat": 4,
  "nbformat_minor": 0,
  "metadata": {
    "colab": {
      "name": "01_TimeSeries_Exercise1.ipynb",
      "version": "0.3.2",
      "provenance": [],
      "collapsed_sections": []
    },
    "kernelspec": {
      "display_name": "Python 3",
      "language": "python",
      "name": "python3"
    }
  },
  "cells": [
    {
      "metadata": {
        "id": "HJ63rXnsNEcH",
        "colab_type": "text"
      },
      "cell_type": "markdown",
      "source": [
        "# Data Series\n",
        "\n",
        "A data series is an ordered collection, often with respect to time.\n",
        "\n",
        "Examples:\n",
        "- Temperatures throughout the year\n",
        "- Height/weight throughout a lifetime\n",
        "- Stock prices across time\n",
        "- Physiological signals (EEG, ECG, pulse rate, ...)\n",
        "- Sound or video\n",
        "\n",
        "<img src = \"https://raw.githubusercontent.com/BeaverWorksMedlytics/Week2_public/master/imgs/life_expectancy_time_series.png\">\n",
        "\n",
        "If order is important, then what you have is a time series\n",
        "- Doesn’t actually have to be throughout time!\n",
        "\n"
      ]
    },
    {
      "metadata": {
        "id": "WIVaEWeINEcJ",
        "colab_type": "text"
      },
      "cell_type": "markdown",
      "source": [
        "# Time Series Data Analysis\n",
        "\n",
        "Let's look at Google trends data of keywords 'diet', 'gym' and 'finance' to see how they vary over time. Could there be more searches for these terms in January when we're all trying to turn over a new leaf? "
      ]
    },
    {
      "metadata": {
        "id": "sCYrIFR2NEcK",
        "colab_type": "code",
        "colab": {}
      },
      "cell_type": "code",
      "source": [
        "import pandas as pd\n",
        "import numpy as np\n",
        "import matplotlib.pyplot as plt\n",
        "import matplotlib\n",
        "\n",
        "%matplotlib inline\n",
        "matplotlib.rcParams.update({'font.size': 16})"
      ],
      "execution_count": 0,
      "outputs": []
    },
    {
      "metadata": {
        "id": "CiPpFm80NEcP",
        "colab_type": "code",
        "colab": {
          "base_uri": "https://localhost:8080/",
          "height": 204
        },
        "outputId": "c5d6986d-a221-4c63-a30d-621a882c4f02"
      },
      "cell_type": "code",
      "source": [
        "#Import the data and see what's in it\n",
        "\n",
        "df = pd.read_csv('https://raw.githubusercontent.com/BeaverWorksMedlytics/Week2_public/master/multiTimeline.csv', skiprows=1)\n",
        "df.head()"
      ],
      "execution_count": 11,
      "outputs": [
        {
          "output_type": "execute_result",
          "data": {
            "text/html": [
              "<div>\n",
              "<style scoped>\n",
              "    .dataframe tbody tr th:only-of-type {\n",
              "        vertical-align: middle;\n",
              "    }\n",
              "\n",
              "    .dataframe tbody tr th {\n",
              "        vertical-align: top;\n",
              "    }\n",
              "\n",
              "    .dataframe thead th {\n",
              "        text-align: right;\n",
              "    }\n",
              "</style>\n",
              "<table border=\"1\" class=\"dataframe\">\n",
              "  <thead>\n",
              "    <tr style=\"text-align: right;\">\n",
              "      <th></th>\n",
              "      <th>month</th>\n",
              "      <th>diet</th>\n",
              "      <th>gym</th>\n",
              "      <th>finance</th>\n",
              "    </tr>\n",
              "  </thead>\n",
              "  <tbody>\n",
              "    <tr>\n",
              "      <th>0</th>\n",
              "      <td>2004-01</td>\n",
              "      <td>100</td>\n",
              "      <td>31</td>\n",
              "      <td>48</td>\n",
              "    </tr>\n",
              "    <tr>\n",
              "      <th>1</th>\n",
              "      <td>2004-02</td>\n",
              "      <td>75</td>\n",
              "      <td>26</td>\n",
              "      <td>49</td>\n",
              "    </tr>\n",
              "    <tr>\n",
              "      <th>2</th>\n",
              "      <td>2004-03</td>\n",
              "      <td>67</td>\n",
              "      <td>24</td>\n",
              "      <td>47</td>\n",
              "    </tr>\n",
              "    <tr>\n",
              "      <th>3</th>\n",
              "      <td>2004-04</td>\n",
              "      <td>70</td>\n",
              "      <td>22</td>\n",
              "      <td>48</td>\n",
              "    </tr>\n",
              "    <tr>\n",
              "      <th>4</th>\n",
              "      <td>2004-05</td>\n",
              "      <td>72</td>\n",
              "      <td>22</td>\n",
              "      <td>43</td>\n",
              "    </tr>\n",
              "  </tbody>\n",
              "</table>\n",
              "</div>"
            ],
            "text/plain": [
              "     month  diet  gym  finance\n",
              "0  2004-01   100   31       48\n",
              "1  2004-02    75   26       49\n",
              "2  2004-03    67   24       47\n",
              "3  2004-04    70   22       48\n",
              "4  2004-05    72   22       43"
            ]
          },
          "metadata": {
            "tags": []
          },
          "execution_count": 11
        }
      ]
    },
    {
      "metadata": {
        "id": "Ft3B_xKHNEcY",
        "colab_type": "code",
        "colab": {
          "base_uri": "https://localhost:8080/",
          "height": 170
        },
        "outputId": "dfd5160d-603e-467c-82be-2e1219fca606"
      },
      "cell_type": "code",
      "source": [
        "#Use the .info() method to check out your data types, number of rows and more\n",
        "\n",
        "df.info()"
      ],
      "execution_count": 12,
      "outputs": [
        {
          "output_type": "stream",
          "text": [
            "<class 'pandas.core.frame.DataFrame'>\n",
            "RangeIndex: 168 entries, 0 to 167\n",
            "Data columns (total 4 columns):\n",
            "month      168 non-null object\n",
            "diet       168 non-null int64\n",
            "gym        168 non-null int64\n",
            "finance    168 non-null int64\n",
            "dtypes: int64(3), object(1)\n",
            "memory usage: 5.3+ KB\n"
          ],
          "name": "stdout"
        }
      ]
    },
    {
      "metadata": {
        "id": "BP7uFrlhNEce",
        "colab_type": "code",
        "colab": {
          "base_uri": "https://localhost:8080/",
          "height": 2000
        },
        "outputId": "b0b46e57-c9d0-4c0e-bb90-b69ee57986c2"
      },
      "cell_type": "code",
      "source": [
        "#Turn the 'month' column into a datetime data type and make it the index of the DataFrame\n",
        "df.month = pd.to_datetime(df.month)\n",
        "df.set_index('month', inplace=True)\n",
        "df"
      ],
      "execution_count": 13,
      "outputs": [
        {
          "output_type": "execute_result",
          "data": {
            "text/html": [
              "<div>\n",
              "<style scoped>\n",
              "    .dataframe tbody tr th:only-of-type {\n",
              "        vertical-align: middle;\n",
              "    }\n",
              "\n",
              "    .dataframe tbody tr th {\n",
              "        vertical-align: top;\n",
              "    }\n",
              "\n",
              "    .dataframe thead th {\n",
              "        text-align: right;\n",
              "    }\n",
              "</style>\n",
              "<table border=\"1\" class=\"dataframe\">\n",
              "  <thead>\n",
              "    <tr style=\"text-align: right;\">\n",
              "      <th></th>\n",
              "      <th>diet</th>\n",
              "      <th>gym</th>\n",
              "      <th>finance</th>\n",
              "    </tr>\n",
              "    <tr>\n",
              "      <th>month</th>\n",
              "      <th></th>\n",
              "      <th></th>\n",
              "      <th></th>\n",
              "    </tr>\n",
              "  </thead>\n",
              "  <tbody>\n",
              "    <tr>\n",
              "      <th>2004-01-01</th>\n",
              "      <td>100</td>\n",
              "      <td>31</td>\n",
              "      <td>48</td>\n",
              "    </tr>\n",
              "    <tr>\n",
              "      <th>2004-02-01</th>\n",
              "      <td>75</td>\n",
              "      <td>26</td>\n",
              "      <td>49</td>\n",
              "    </tr>\n",
              "    <tr>\n",
              "      <th>2004-03-01</th>\n",
              "      <td>67</td>\n",
              "      <td>24</td>\n",
              "      <td>47</td>\n",
              "    </tr>\n",
              "    <tr>\n",
              "      <th>2004-04-01</th>\n",
              "      <td>70</td>\n",
              "      <td>22</td>\n",
              "      <td>48</td>\n",
              "    </tr>\n",
              "    <tr>\n",
              "      <th>2004-05-01</th>\n",
              "      <td>72</td>\n",
              "      <td>22</td>\n",
              "      <td>43</td>\n",
              "    </tr>\n",
              "    <tr>\n",
              "      <th>2004-06-01</th>\n",
              "      <td>64</td>\n",
              "      <td>24</td>\n",
              "      <td>45</td>\n",
              "    </tr>\n",
              "    <tr>\n",
              "      <th>2004-07-01</th>\n",
              "      <td>60</td>\n",
              "      <td>23</td>\n",
              "      <td>44</td>\n",
              "    </tr>\n",
              "    <tr>\n",
              "      <th>2004-08-01</th>\n",
              "      <td>59</td>\n",
              "      <td>28</td>\n",
              "      <td>44</td>\n",
              "    </tr>\n",
              "    <tr>\n",
              "      <th>2004-09-01</th>\n",
              "      <td>53</td>\n",
              "      <td>25</td>\n",
              "      <td>44</td>\n",
              "    </tr>\n",
              "    <tr>\n",
              "      <th>2004-10-01</th>\n",
              "      <td>52</td>\n",
              "      <td>24</td>\n",
              "      <td>45</td>\n",
              "    </tr>\n",
              "    <tr>\n",
              "      <th>2004-11-01</th>\n",
              "      <td>50</td>\n",
              "      <td>23</td>\n",
              "      <td>43</td>\n",
              "    </tr>\n",
              "    <tr>\n",
              "      <th>2004-12-01</th>\n",
              "      <td>42</td>\n",
              "      <td>24</td>\n",
              "      <td>41</td>\n",
              "    </tr>\n",
              "    <tr>\n",
              "      <th>2005-01-01</th>\n",
              "      <td>64</td>\n",
              "      <td>32</td>\n",
              "      <td>44</td>\n",
              "    </tr>\n",
              "    <tr>\n",
              "      <th>2005-02-01</th>\n",
              "      <td>54</td>\n",
              "      <td>28</td>\n",
              "      <td>48</td>\n",
              "    </tr>\n",
              "    <tr>\n",
              "      <th>2005-03-01</th>\n",
              "      <td>56</td>\n",
              "      <td>27</td>\n",
              "      <td>46</td>\n",
              "    </tr>\n",
              "    <tr>\n",
              "      <th>2005-04-01</th>\n",
              "      <td>56</td>\n",
              "      <td>25</td>\n",
              "      <td>44</td>\n",
              "    </tr>\n",
              "    <tr>\n",
              "      <th>2005-05-01</th>\n",
              "      <td>59</td>\n",
              "      <td>24</td>\n",
              "      <td>42</td>\n",
              "    </tr>\n",
              "    <tr>\n",
              "      <th>2005-06-01</th>\n",
              "      <td>53</td>\n",
              "      <td>25</td>\n",
              "      <td>44</td>\n",
              "    </tr>\n",
              "    <tr>\n",
              "      <th>2005-07-01</th>\n",
              "      <td>53</td>\n",
              "      <td>25</td>\n",
              "      <td>44</td>\n",
              "    </tr>\n",
              "    <tr>\n",
              "      <th>2005-08-01</th>\n",
              "      <td>51</td>\n",
              "      <td>28</td>\n",
              "      <td>44</td>\n",
              "    </tr>\n",
              "    <tr>\n",
              "      <th>2005-09-01</th>\n",
              "      <td>47</td>\n",
              "      <td>28</td>\n",
              "      <td>44</td>\n",
              "    </tr>\n",
              "    <tr>\n",
              "      <th>2005-10-01</th>\n",
              "      <td>46</td>\n",
              "      <td>27</td>\n",
              "      <td>43</td>\n",
              "    </tr>\n",
              "    <tr>\n",
              "      <th>2005-11-01</th>\n",
              "      <td>44</td>\n",
              "      <td>25</td>\n",
              "      <td>42</td>\n",
              "    </tr>\n",
              "    <tr>\n",
              "      <th>2005-12-01</th>\n",
              "      <td>40</td>\n",
              "      <td>24</td>\n",
              "      <td>38</td>\n",
              "    </tr>\n",
              "    <tr>\n",
              "      <th>2006-01-01</th>\n",
              "      <td>64</td>\n",
              "      <td>34</td>\n",
              "      <td>44</td>\n",
              "    </tr>\n",
              "    <tr>\n",
              "      <th>2006-02-01</th>\n",
              "      <td>51</td>\n",
              "      <td>29</td>\n",
              "      <td>44</td>\n",
              "    </tr>\n",
              "    <tr>\n",
              "      <th>2006-03-01</th>\n",
              "      <td>51</td>\n",
              "      <td>28</td>\n",
              "      <td>46</td>\n",
              "    </tr>\n",
              "    <tr>\n",
              "      <th>2006-04-01</th>\n",
              "      <td>50</td>\n",
              "      <td>27</td>\n",
              "      <td>47</td>\n",
              "    </tr>\n",
              "    <tr>\n",
              "      <th>2006-05-01</th>\n",
              "      <td>50</td>\n",
              "      <td>26</td>\n",
              "      <td>45</td>\n",
              "    </tr>\n",
              "    <tr>\n",
              "      <th>2006-06-01</th>\n",
              "      <td>52</td>\n",
              "      <td>25</td>\n",
              "      <td>44</td>\n",
              "    </tr>\n",
              "    <tr>\n",
              "      <th>...</th>\n",
              "      <td>...</td>\n",
              "      <td>...</td>\n",
              "      <td>...</td>\n",
              "    </tr>\n",
              "    <tr>\n",
              "      <th>2015-07-01</th>\n",
              "      <td>47</td>\n",
              "      <td>42</td>\n",
              "      <td>46</td>\n",
              "    </tr>\n",
              "    <tr>\n",
              "      <th>2015-08-01</th>\n",
              "      <td>46</td>\n",
              "      <td>43</td>\n",
              "      <td>48</td>\n",
              "    </tr>\n",
              "    <tr>\n",
              "      <th>2015-09-01</th>\n",
              "      <td>43</td>\n",
              "      <td>45</td>\n",
              "      <td>48</td>\n",
              "    </tr>\n",
              "    <tr>\n",
              "      <th>2015-10-01</th>\n",
              "      <td>42</td>\n",
              "      <td>41</td>\n",
              "      <td>46</td>\n",
              "    </tr>\n",
              "    <tr>\n",
              "      <th>2015-11-01</th>\n",
              "      <td>39</td>\n",
              "      <td>42</td>\n",
              "      <td>42</td>\n",
              "    </tr>\n",
              "    <tr>\n",
              "      <th>2015-12-01</th>\n",
              "      <td>38</td>\n",
              "      <td>42</td>\n",
              "      <td>40</td>\n",
              "    </tr>\n",
              "    <tr>\n",
              "      <th>2016-01-01</th>\n",
              "      <td>51</td>\n",
              "      <td>52</td>\n",
              "      <td>44</td>\n",
              "    </tr>\n",
              "    <tr>\n",
              "      <th>2016-02-01</th>\n",
              "      <td>48</td>\n",
              "      <td>46</td>\n",
              "      <td>46</td>\n",
              "    </tr>\n",
              "    <tr>\n",
              "      <th>2016-03-01</th>\n",
              "      <td>48</td>\n",
              "      <td>47</td>\n",
              "      <td>44</td>\n",
              "    </tr>\n",
              "    <tr>\n",
              "      <th>2016-04-01</th>\n",
              "      <td>48</td>\n",
              "      <td>44</td>\n",
              "      <td>43</td>\n",
              "    </tr>\n",
              "    <tr>\n",
              "      <th>2016-05-01</th>\n",
              "      <td>47</td>\n",
              "      <td>46</td>\n",
              "      <td>42</td>\n",
              "    </tr>\n",
              "    <tr>\n",
              "      <th>2016-06-01</th>\n",
              "      <td>44</td>\n",
              "      <td>46</td>\n",
              "      <td>45</td>\n",
              "    </tr>\n",
              "    <tr>\n",
              "      <th>2016-07-01</th>\n",
              "      <td>43</td>\n",
              "      <td>58</td>\n",
              "      <td>41</td>\n",
              "    </tr>\n",
              "    <tr>\n",
              "      <th>2016-08-01</th>\n",
              "      <td>45</td>\n",
              "      <td>53</td>\n",
              "      <td>41</td>\n",
              "    </tr>\n",
              "    <tr>\n",
              "      <th>2016-09-01</th>\n",
              "      <td>43</td>\n",
              "      <td>51</td>\n",
              "      <td>44</td>\n",
              "    </tr>\n",
              "    <tr>\n",
              "      <th>2016-10-01</th>\n",
              "      <td>40</td>\n",
              "      <td>45</td>\n",
              "      <td>41</td>\n",
              "    </tr>\n",
              "    <tr>\n",
              "      <th>2016-11-01</th>\n",
              "      <td>39</td>\n",
              "      <td>44</td>\n",
              "      <td>43</td>\n",
              "    </tr>\n",
              "    <tr>\n",
              "      <th>2016-12-01</th>\n",
              "      <td>36</td>\n",
              "      <td>44</td>\n",
              "      <td>39</td>\n",
              "    </tr>\n",
              "    <tr>\n",
              "      <th>2017-01-01</th>\n",
              "      <td>55</td>\n",
              "      <td>56</td>\n",
              "      <td>43</td>\n",
              "    </tr>\n",
              "    <tr>\n",
              "      <th>2017-02-01</th>\n",
              "      <td>56</td>\n",
              "      <td>51</td>\n",
              "      <td>44</td>\n",
              "    </tr>\n",
              "    <tr>\n",
              "      <th>2017-03-01</th>\n",
              "      <td>50</td>\n",
              "      <td>51</td>\n",
              "      <td>44</td>\n",
              "    </tr>\n",
              "    <tr>\n",
              "      <th>2017-04-01</th>\n",
              "      <td>49</td>\n",
              "      <td>48</td>\n",
              "      <td>42</td>\n",
              "    </tr>\n",
              "    <tr>\n",
              "      <th>2017-05-01</th>\n",
              "      <td>48</td>\n",
              "      <td>48</td>\n",
              "      <td>43</td>\n",
              "    </tr>\n",
              "    <tr>\n",
              "      <th>2017-06-01</th>\n",
              "      <td>48</td>\n",
              "      <td>49</td>\n",
              "      <td>41</td>\n",
              "    </tr>\n",
              "    <tr>\n",
              "      <th>2017-07-01</th>\n",
              "      <td>52</td>\n",
              "      <td>52</td>\n",
              "      <td>43</td>\n",
              "    </tr>\n",
              "    <tr>\n",
              "      <th>2017-08-01</th>\n",
              "      <td>46</td>\n",
              "      <td>52</td>\n",
              "      <td>43</td>\n",
              "    </tr>\n",
              "    <tr>\n",
              "      <th>2017-09-01</th>\n",
              "      <td>44</td>\n",
              "      <td>50</td>\n",
              "      <td>47</td>\n",
              "    </tr>\n",
              "    <tr>\n",
              "      <th>2017-10-01</th>\n",
              "      <td>44</td>\n",
              "      <td>47</td>\n",
              "      <td>45</td>\n",
              "    </tr>\n",
              "    <tr>\n",
              "      <th>2017-11-01</th>\n",
              "      <td>41</td>\n",
              "      <td>47</td>\n",
              "      <td>47</td>\n",
              "    </tr>\n",
              "    <tr>\n",
              "      <th>2017-12-01</th>\n",
              "      <td>39</td>\n",
              "      <td>45</td>\n",
              "      <td>56</td>\n",
              "    </tr>\n",
              "  </tbody>\n",
              "</table>\n",
              "<p>168 rows × 3 columns</p>\n",
              "</div>"
            ],
            "text/plain": [
              "            diet  gym  finance\n",
              "month                         \n",
              "2004-01-01   100   31       48\n",
              "2004-02-01    75   26       49\n",
              "2004-03-01    67   24       47\n",
              "2004-04-01    70   22       48\n",
              "2004-05-01    72   22       43\n",
              "2004-06-01    64   24       45\n",
              "2004-07-01    60   23       44\n",
              "2004-08-01    59   28       44\n",
              "2004-09-01    53   25       44\n",
              "2004-10-01    52   24       45\n",
              "2004-11-01    50   23       43\n",
              "2004-12-01    42   24       41\n",
              "2005-01-01    64   32       44\n",
              "2005-02-01    54   28       48\n",
              "2005-03-01    56   27       46\n",
              "2005-04-01    56   25       44\n",
              "2005-05-01    59   24       42\n",
              "2005-06-01    53   25       44\n",
              "2005-07-01    53   25       44\n",
              "2005-08-01    51   28       44\n",
              "2005-09-01    47   28       44\n",
              "2005-10-01    46   27       43\n",
              "2005-11-01    44   25       42\n",
              "2005-12-01    40   24       38\n",
              "2006-01-01    64   34       44\n",
              "2006-02-01    51   29       44\n",
              "2006-03-01    51   28       46\n",
              "2006-04-01    50   27       47\n",
              "2006-05-01    50   26       45\n",
              "2006-06-01    52   25       44\n",
              "...          ...  ...      ...\n",
              "2015-07-01    47   42       46\n",
              "2015-08-01    46   43       48\n",
              "2015-09-01    43   45       48\n",
              "2015-10-01    42   41       46\n",
              "2015-11-01    39   42       42\n",
              "2015-12-01    38   42       40\n",
              "2016-01-01    51   52       44\n",
              "2016-02-01    48   46       46\n",
              "2016-03-01    48   47       44\n",
              "2016-04-01    48   44       43\n",
              "2016-05-01    47   46       42\n",
              "2016-06-01    44   46       45\n",
              "2016-07-01    43   58       41\n",
              "2016-08-01    45   53       41\n",
              "2016-09-01    43   51       44\n",
              "2016-10-01    40   45       41\n",
              "2016-11-01    39   44       43\n",
              "2016-12-01    36   44       39\n",
              "2017-01-01    55   56       43\n",
              "2017-02-01    56   51       44\n",
              "2017-03-01    50   51       44\n",
              "2017-04-01    49   48       42\n",
              "2017-05-01    48   48       43\n",
              "2017-06-01    48   49       41\n",
              "2017-07-01    52   52       43\n",
              "2017-08-01    46   52       43\n",
              "2017-09-01    44   50       47\n",
              "2017-10-01    44   47       45\n",
              "2017-11-01    41   47       47\n",
              "2017-12-01    39   45       56\n",
              "\n",
              "[168 rows x 3 columns]"
            ]
          },
          "metadata": {
            "tags": []
          },
          "execution_count": 13
        }
      ]
    },
    {
      "metadata": {
        "id": "iOGXcZjvNEci",
        "colab_type": "text"
      },
      "cell_type": "markdown",
      "source": [
        "#### Exercise\n",
        "\n",
        "Use the pandas [built-in visualization method](http://pandas.pydata.org/pandas-docs/stable/generated/pandas.DataFrame.plot.html) to plot your data as 3 line plots on a single figure (one for each column)."
      ]
    },
    {
      "metadata": {
        "id": "L529i3kTNEck",
        "colab_type": "code",
        "colab": {
          "base_uri": "https://localhost:8080/",
          "height": 296
        },
        "outputId": "8c5550d6-355f-4db0-8454-8c3aa6af1b11"
      },
      "cell_type": "code",
      "source": [
        "df.plot.line()"
      ],
      "execution_count": 14,
      "outputs": [
        {
          "output_type": "execute_result",
          "data": {
            "text/plain": [
              "<matplotlib.axes._subplots.AxesSubplot at 0x7f7d75349c88>"
            ]
          },
          "metadata": {
            "tags": []
          },
          "execution_count": 14
        },
        {
          "output_type": "display_data",
          "data": {
            "image/png": "[encoded data removed]",
            "text/plain": [
              "<matplotlib.figure.Figure at 0x7f7d753afdd8>"
            ]
          },
          "metadata": {
            "tags": []
          }
        }
      ]
    },
    {
      "metadata": {
        "id": "r8D53gT0NEcp",
        "colab_type": "text"
      },
      "cell_type": "markdown",
      "source": [
        "#### Exercise\n",
        "\n",
        "Plot the 'diet' column by itself as a time series."
      ]
    },
    {
      "metadata": {
        "id": "Jm_ajBnENEcq",
        "colab_type": "code",
        "colab": {
          "base_uri": "https://localhost:8080/",
          "height": 296
        },
        "outputId": "35eed203-839f-441a-f092-ecbb6145002d"
      },
      "cell_type": "code",
      "source": [
        "df.diet.plot.line()"
      ],
      "execution_count": 15,
      "outputs": [
        {
          "output_type": "execute_result",
          "data": {
            "text/plain": [
              "<matplotlib.axes._subplots.AxesSubplot at 0x7f7d7581acf8>"
            ]
          },
          "metadata": {
            "tags": []
          },
          "execution_count": 15
        },
        {
          "output_type": "display_data",
          "data": {
            "image/png": "[encoded data removed]",
            "text/plain": [
              "<matplotlib.figure.Figure at 0x7f7d73220278>"
            ]
          },
          "metadata": {
            "tags": []
          }
        }
      ]
    },
    {
      "metadata": {
        "id": "YnAH29hUNEcw",
        "colab_type": "text"
      },
      "cell_type": "markdown",
      "source": [
        " It looks like there are trends and seasonal components to these time series."
      ]
    },
    {
      "metadata": {
        "id": "eVYWxqHaNEcw",
        "colab_type": "text"
      },
      "cell_type": "markdown",
      "source": [
        "## Identifying Trends\n",
        "\n",
        "One popular way of identifying (long-term) trends is to taking a rolling average.  This means that, for each time point, we take the average of the points on either side of it (the number of points is specified by a window size, which you need to choose)."
      ]
    },
    {
      "metadata": {
        "id": "RmUpTVjHNEcx",
        "colab_type": "text"
      },
      "cell_type": "markdown",
      "source": [
        "#### Exercise\n",
        "\n",
        "Plot the rolling average of both 'diet'and 'gym' using [built-in pandas methods](https://pandas.pydata.org/pandas-docs/stable/generated/pandas.DataFrame.rolling.html). What window size does it make sense to use?"
      ]
    },
    {
      "metadata": {
        "id": "ofGzTbNNNEcy",
        "colab_type": "code",
        "colab": {
          "base_uri": "https://localhost:8080/",
          "height": 297
        },
        "outputId": "dd26cfda-dc02-4dbc-9447-64a758653fa4"
      },
      "cell_type": "code",
      "source": [
        "dfr = df[[\"diet\",\"gym\"]].rolling(12).mean()\n",
        "dfr.plot.line()"
      ],
      "execution_count": 35,
      "outputs": [
        {
          "output_type": "execute_result",
          "data": {
            "text/plain": [
              "<matplotlib.axes._subplots.AxesSubplot at 0x7f7d72ad0860>"
            ]
          },
          "metadata": {
            "tags": []
          },
          "execution_count": 35
        },
        {
          "output_type": "display_data",
          "data": {
            "image/png": "[encoded data removed]",
            "text/plain": [
              "<matplotlib.figure.Figure at 0x7f7d72b15208>"
            ]
          },
          "metadata": {
            "tags": []
          }
        }
      ]
    },
    {
      "metadata": {
        "id": "RYYKG-TcNEc2",
        "colab_type": "text"
      },
      "cell_type": "markdown",
      "source": [
        "###  Seasonal Patterns\n",
        "\n",
        "You can remove the trend from a time series to investigate seasonality. To remove the trend, you can subtract the trend you computed above (rolling mean) from the original signal. This, however, will be dependent on how many data points you averaged over. Another way to remove the trend is called __differencing__, where you look at the difference between successive data points (called first-order differencing)."
      ]
    },
    {
      "metadata": {
        "id": "aCWYQIgiNEc3",
        "colab_type": "text"
      },
      "cell_type": "markdown",
      "source": [
        "#### Exercise\n",
        "\n",
        "Use pandas to compute and plot the [first order difference](https://pandas.pydata.org/pandas-docs/stable/generated/pandas.DataFrame.diff.html) of the 'diet' series"
      ]
    },
    {
      "metadata": {
        "id": "NVXxpWFcNEc4",
        "colab_type": "code",
        "colab": {
          "base_uri": "https://localhost:8080/",
          "height": 296
        },
        "outputId": "c13a830d-b73d-4fe2-8841-a48001139d02"
      },
      "cell_type": "code",
      "source": [
        "dfd = df.diff()\n",
        "dfd.plot.line()"
      ],
      "execution_count": 42,
      "outputs": [
        {
          "output_type": "execute_result",
          "data": {
            "text/plain": [
              "<matplotlib.axes._subplots.AxesSubplot at 0x7f7d72923c18>"
            ]
          },
          "metadata": {
            "tags": []
          },
          "execution_count": 42
        },
        {
          "output_type": "display_data",
          "data": {
            "image/png": "[encoded data removed]",
            "text/plain": [
              "<matplotlib.figure.Figure at 0x7f7d72983780>"
            ]
          },
          "metadata": {
            "tags": []
          }
        }
      ]
    },
    {
      "metadata": {
        "id": "3geLg597NEc8",
        "colab_type": "text"
      },
      "cell_type": "markdown",
      "source": [
        "See that you have removed much of the trend and you can really see the peaks that occur twice a year.  What does this mean?"
      ]
    },
    {
      "metadata": {
        "id": "_w0Ht4NyNEc8",
        "colab_type": "text"
      },
      "cell_type": "markdown",
      "source": [
        "Differencing is super helpful in turning your time series into a __stationary time series__. A stationary time series is one whose statistical properties (such as mean & variance) don't change over time. Stationary time series are useful because many time series forecasting methods are based on the assumption that the time series is approximately stationary."
      ]
    },
    {
      "metadata": {
        "id": "1mssZzD7NEc9",
        "colab_type": "text"
      },
      "cell_type": "markdown",
      "source": [
        "## Periodicity and Autocorrelation\n",
        "\n",
        "\n",
        "A time series is *periodic* if it repeats itself at equally spaced intervals, say, every 12 months. Another way to think of this is that if the time series has a peak somewhere, then it will have a peak 12 months after that and, if it has a trough somewhere, it will also have a trough 12 months after that. Yet another way of thinking about this is that the time series is correlated with itself shifted by 12 months.\n",
        "\n",
        "Considering the correlation of a time series with such a shifted version of itself is captured by the concept of autocorrelation. We'll get to this in a minute. First, let's remind ourselves about correlation:\n",
        "\n",
        "### Correlation\n",
        "\n",
        "The correlation coefficient of two variables captures how linearly related they are."
      ]
    },
    {
      "metadata": {
        "id": "t3PLEqwVNEc9",
        "colab_type": "text"
      },
      "cell_type": "markdown",
      "source": [
        "#### Exercise\n",
        "\n",
        "Compute the [correlation coefficients](https://pandas.pydata.org/pandas-docs/stable/generated/pandas.DataFrame.corr.html) of all of these time series and interpret the results."
      ]
    },
    {
      "metadata": {
        "id": "z88Kho9ENEc-",
        "colab_type": "code",
        "colab": {
          "base_uri": "https://localhost:8080/",
          "height": 142
        },
        "outputId": "0b521664-2b6e-4ef2-ec8b-c0917fd534d1"
      },
      "cell_type": "code",
      "source": [
        "df.corr()"
      ],
      "execution_count": 46,
      "outputs": [
        {
          "output_type": "execute_result",
          "data": {
            "text/html": [
              "<div>\n",
              "<style scoped>\n",
              "    .dataframe tbody tr th:only-of-type {\n",
              "        vertical-align: middle;\n",
              "    }\n",
              "\n",
              "    .dataframe tbody tr th {\n",
              "        vertical-align: top;\n",
              "    }\n",
              "\n",
              "    .dataframe thead th {\n",
              "        text-align: right;\n",
              "    }\n",
              "</style>\n",
              "<table border=\"1\" class=\"dataframe\">\n",
              "  <thead>\n",
              "    <tr style=\"text-align: right;\">\n",
              "      <th></th>\n",
              "      <th>diet</th>\n",
              "      <th>gym</th>\n",
              "      <th>finance</th>\n",
              "    </tr>\n",
              "  </thead>\n",
              "  <tbody>\n",
              "    <tr>\n",
              "      <th>diet</th>\n",
              "      <td>1.000000</td>\n",
              "      <td>-0.100764</td>\n",
              "      <td>-0.034639</td>\n",
              "    </tr>\n",
              "    <tr>\n",
              "      <th>gym</th>\n",
              "      <td>-0.100764</td>\n",
              "      <td>1.000000</td>\n",
              "      <td>-0.284279</td>\n",
              "    </tr>\n",
              "    <tr>\n",
              "      <th>finance</th>\n",
              "      <td>-0.034639</td>\n",
              "      <td>-0.284279</td>\n",
              "      <td>1.000000</td>\n",
              "    </tr>\n",
              "  </tbody>\n",
              "</table>\n",
              "</div>"
            ],
            "text/plain": [
              "             diet       gym   finance\n",
              "diet     1.000000 -0.100764 -0.034639\n",
              "gym     -0.100764  1.000000 -0.284279\n",
              "finance -0.034639 -0.284279  1.000000"
            ]
          },
          "metadata": {
            "tags": []
          },
          "execution_count": 46
        }
      ]
    },
    {
      "metadata": {
        "id": "ZZwnTqH9NEdB",
        "colab_type": "text"
      },
      "cell_type": "markdown",
      "source": [
        "#### Answer\n",
        "\n",
        "The correlation coefficient of 1.0 corresponds to the fac thtat the series is perfectly correlated with itself. the rest of the correlation coefficients are pretty weak except for negative correlation between 'gym' and 'finance', which indicates that an increase in 'gym' tends to correspond to decrease in 'finance'. This makes sense..."
      ]
    },
    {
      "metadata": {
        "id": "4sBR17axNEdB",
        "colab_type": "text"
      },
      "cell_type": "markdown",
      "source": [
        "#### Exercise\n",
        "\n",
        "Now plot the first-order differences of these time series and then compute the correlation coefficients. Removing the trend may reveal correlation in seasonality. Interpret the results."
      ]
    },
    {
      "metadata": {
        "id": "xp0vbfrWNEdC",
        "colab_type": "code",
        "colab": {
          "base_uri": "https://localhost:8080/",
          "height": 279
        },
        "outputId": "e7f8c25a-305f-45c5-bf81-6bacb53f265a"
      },
      "cell_type": "code",
      "source": [
        "dfd = df.diff().plot()"
      ],
      "execution_count": 48,
      "outputs": [
        {
          "output_type": "display_data",
          "data": {
            "image/png": "[encoded data removed]",
            "text/plain": [
              "<matplotlib.figure.Figure at 0x7f7d726e81d0>"
            ]
          },
          "metadata": {
            "tags": []
          }
        }
      ]
    },
    {
      "metadata": {
        "id": "12IUsbUlNEdG",
        "colab_type": "text"
      },
      "cell_type": "markdown",
      "source": [
        "#### Answer\n",
        "\n",
        "((YOUR ANSWER HERE))"
      ]
    },
    {
      "metadata": {
        "id": "rzZ2kQj0NEdH",
        "colab_type": "text"
      },
      "cell_type": "markdown",
      "source": [
        "###  Autocorrelation\n",
        "\n",
        "Let's now plot the autocorrelation of the 'diet' series: on the x-axis you have the lag and on the y-axis you have how correlated the time series is with itself at that lag. For example, if the original time series repeats itself every two days, you would expect to see a spike in the autocorrelation function at 2 days."
      ]
    },
    {
      "metadata": {
        "id": "09c0gv2RNEdI",
        "colab_type": "code",
        "colab": {
          "base_uri": "https://localhost:8080/",
          "height": 300
        },
        "outputId": "cc1dc2ec-e435-4427-94d0-f363a8c4d770"
      },
      "cell_type": "code",
      "source": [
        "pd.plotting.autocorrelation_plot(df.diet)"
      ],
      "execution_count": 53,
      "outputs": [
        {
          "output_type": "execute_result",
          "data": {
            "text/plain": [
              "<matplotlib.axes._subplots.AxesSubplot at 0x7f7d724cc048>"
            ]
          },
          "metadata": {
            "tags": []
          },
          "execution_count": 53
        },
        {
          "output_type": "display_data",
          "data": {
            "image/png": "[encoded data removed]",
            "text/plain": [
              "<matplotlib.figure.Figure at 0x7f7d72492278>"
            ]
          },
          "metadata": {
            "tags": []
          }
        }
      ]
    },
    {
      "metadata": {
        "id": "0o6ohZadNEdM",
        "colab_type": "text"
      },
      "cell_type": "markdown",
      "source": [
        "#### Exercise\n",
        "\n",
        "Interpret the results."
      ]
    },
    {
      "metadata": {
        "id": "HciqtrmlNEdN",
        "colab_type": "text"
      },
      "cell_type": "markdown",
      "source": [
        "#### Answer\n",
        "\n",
        "((YOUR ANSWER HERE))"
      ]
    },
    {
      "metadata": {
        "id": "Hy-URdtiNEdN",
        "colab_type": "code",
        "colab": {}
      },
      "cell_type": "code",
      "source": [
        ""
      ],
      "execution_count": 0,
      "outputs": []
    }
  ]
}