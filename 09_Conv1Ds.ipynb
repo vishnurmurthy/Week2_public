{
  "nbformat": 4,
  "nbformat_minor": 0,
  "metadata": {
    "colab": {
      "name": "Conv1DStudent.ipynb",
      "version": "0.3.2",
      "provenance": [],
      "collapsed_sections": []
    }
  },
  "cells": [
    {
      "metadata": {
        "id": "PcahCqill_TM",
        "colab_type": "text"
      },
      "cell_type": "markdown",
      "source": [
        "# 1d Convolutional Neural Networks"
      ]
    },
    {
      "metadata": {
        "id": "5juHZFcFugzS",
        "colab_type": "code",
        "colab": {}
      },
      "cell_type": "code",
      "source": [
        "\n",
        "# Imports\n",
        "import numpy as np\n",
        "import os\n",
        "# from utils.utilities import *\n",
        "from sklearn.model_selection import train_test_split\n",
        "import matplotlib.pyplot as plt\n",
        "import tensorflow as tf\n",
        "import pandas as pd\n",
        "from keras.models import Sequential\n",
        "from keras.layers.core import Dense\n",
        "import tensorflow as tf\n",
        "from tensorflow import keras\n",
        "from keras.datasets import mnist\n",
        "from keras.models import Sequential\n",
        "from keras.layers import Dense, Dropout, Flatten\n",
        "from keras.layers import Conv1D, MaxPooling1D\n",
        "from keras.layers.convolutional import Conv1D\n",
        "from keras import backend as K"
      ],
      "execution_count": 0,
      "outputs": []
    },
    {
      "metadata": {
        "id": "Bx9AXfRcmGky",
        "colab_type": "text"
      },
      "cell_type": "markdown",
      "source": [
        "### About the Data"
      ]
    },
    {
      "metadata": {
        "id": "8-uE2dd9mJMv",
        "colab_type": "text"
      },
      "cell_type": "markdown",
      "source": [
        "Data is from people doing one of these activities (WALKING, WALKING_UPSTAIRS, WALKING_DOWNSTAIRS, SITTING, STANDING, LAYING) <br><br>\n",
        "The data is from a smartphone and provides the body acceleration, general acceleration and a gyroscope reading <br><br>\n",
        "Data is from: https://archive.ics.uci.edu/ml/datasets/human+activity+recognition+using+smartphones "
      ]
    },
    {
      "metadata": {
        "id": "gHFlVzfY4ZPQ",
        "colab_type": "text"
      },
      "cell_type": "markdown",
      "source": [
        "### Read in data from functions provided below"
      ]
    },
    {
      "metadata": {
        "id": "ikIjLu7w4Mm_",
        "colab_type": "code",
        "colab": {}
      },
      "cell_type": "code",
      "source": [
        "X_train, labels_train, list_ch_train = read_data_train() # train\n",
        "X_test, labels_test, list_ch_test = read_data_test()"
      ],
      "execution_count": 0,
      "outputs": []
    },
    {
      "metadata": {
        "id": "EG3Tq1ajmjOu",
        "colab_type": "code",
        "colab": {
          "base_uri": "https://localhost:8080/",
          "height": 34
        },
        "outputId": "5de8128b-9aa4-4403-8dd0-30eee7c259bd"
      },
      "cell_type": "code",
      "source": [
        "print(X_train.shape)"
      ],
      "execution_count": 94,
      "outputs": [
        {
          "output_type": "stream",
          "text": [
            "(7352, 128, 9)\n"
          ],
          "name": "stdout"
        }
      ]
    },
    {
      "metadata": {
        "id": "MwRtb-8ymqDz",
        "colab_type": "text"
      },
      "cell_type": "markdown",
      "source": [
        "\n",
        "#### Explaining the shape of the data \n",
        "There are 7,352 data points that are classified as doing one of those activities <br>\n",
        "There are 128 time steps <br>\n",
        "There are 9 values for each time step for each data point for the x,y,z values of the body \n",
        "acceleration, general acceleration and gyrscope reading. <br>"
      ]
    },
    {
      "metadata": {
        "id": "V-8mOh7cm75k",
        "colab_type": "text"
      },
      "cell_type": "markdown",
      "source": [
        "### Use train_test_split to create training and validation data and labels"
      ]
    },
    {
      "metadata": {
        "id": "buuR3HH9yTOw",
        "colab_type": "code",
        "colab": {
          "base_uri": "https://localhost:8080/",
          "height": 1462
        },
        "outputId": "9ab5a7de-b955-49e8-8700-136632adc273"
      },
      "cell_type": "code",
      "source": [
        "X_train, X_val, y_train, y_val = train_test_split(X_train, labels_train, test_size=0.25, random_state=0)\n",
        "X_train"
      ],
      "execution_count": 95,
      "outputs": [
        {
          "output_type": "execute_result",
          "data": {
            "text/plain": [
              "array([[[ 1.481724e-01,  1.046317e-01,  3.250692e-04, ...,\n",
              "          1.159696e+00, -2.713632e-02,  8.817388e-02],\n",
              "        [ 1.435533e-01,  2.076716e-01, -9.300516e-02, ...,\n",
              "          1.155066e+00,  7.606756e-02, -5.106673e-03],\n",
              "        [ 1.811939e-01,  1.544515e-01, -1.273095e-01, ...,\n",
              "          1.192768e+00,  2.300220e-02, -3.937873e-02],\n",
              "        ...,\n",
              "        [-1.275830e-01,  6.643515e-02,  8.251871e-02, ...,\n",
              "          8.905337e-01, -5.582116e-02,  1.741138e-01],\n",
              "        [-1.147077e-01,  8.737952e-02,  1.391429e-01, ...,\n",
              "          9.034618e-01, -3.480743e-02,  2.304481e-01],\n",
              "        [-1.520196e-01,  7.907708e-02,  1.563400e-01, ...,\n",
              "          8.661492e-01, -4.303240e-02,  2.473652e-01]],\n",
              "\n",
              "       [[-4.666965e-02,  4.995205e-02,  6.789561e-02, ...,\n",
              "          8.617538e-01,  2.953420e-01,  4.560750e-01],\n",
              "        [-4.183416e-02,  5.042665e-02,  6.845513e-02, ...,\n",
              "          8.662995e-01,  2.963811e-01,  4.568254e-01],\n",
              "        [-4.006963e-02,  4.790394e-02,  6.308372e-02, ...,\n",
              "          8.677587e-01,  2.944333e-01,  4.516684e-01],\n",
              "        ...,\n",
              "        [ 6.971206e-03, -5.428294e-03, -1.135953e-02, ...,\n",
              "          8.824852e-01,  2.578475e-01,  4.287165e-01],\n",
              "        [ 1.408366e-02, -7.797390e-03, -1.280359e-02, ...,\n",
              "          8.898037e-01,  2.550996e-01,  4.270997e-01],\n",
              "        [ 1.195701e-02, -4.316018e-03, -1.412733e-02, ...,\n",
              "          8.878807e-01,  2.582127e-01,  4.256007e-01]],\n",
              "\n",
              "       [[ 1.918926e-02,  3.663747e-02, -7.805162e-03, ...,\n",
              "          1.025376e+00, -1.858655e-01,  9.548402e-02],\n",
              "        [-2.613049e-03,  3.470041e-02, -1.445790e-03, ...,\n",
              "          1.003500e+00, -1.881525e-01,  1.015971e-01],\n",
              "        [-1.361512e-03,  3.478823e-02, -9.219473e-03, ...,\n",
              "          1.004680e+00, -1.884068e-01,  9.356956e-02],\n",
              "        ...,\n",
              "        [ 9.337513e-03, -4.608847e-02, -2.798422e-02, ...,\n",
              "          1.018100e+00, -2.694313e-01,  6.426881e-02],\n",
              "        [-7.536372e-03, -4.948353e-02, -2.871117e-02, ...,\n",
              "          1.001275e+00, -2.730942e-01,  6.338325e-02],\n",
              "        [-1.849720e-02, -4.059490e-02, -2.811997e-02, ...,\n",
              "          9.903617e-01, -2.644919e-01,  6.380309e-02]],\n",
              "\n",
              "       ...,\n",
              "\n",
              "       [[ 9.788752e-02, -1.488695e-01,  1.444929e-02, ...,\n",
              "          9.189752e-01,  3.415202e-01,  2.630493e-01],\n",
              "        [ 1.158300e-01, -1.473496e-01,  1.311209e-02, ...,\n",
              "          9.408837e-01,  3.365710e-01,  2.622972e-01],\n",
              "        [ 1.047936e-01, -1.579920e-01,  2.444035e-02, ...,\n",
              "          9.337443e-01,  3.195002e-01,  2.742719e-01],\n",
              "        ...,\n",
              "        [-6.126626e-03,  1.439612e-02,  9.543423e-03, ...,\n",
              "          9.544180e-01,  2.782360e-01,  2.008056e-01],\n",
              "        [-4.193343e-03,  1.139471e-02,  4.433829e-03, ...,\n",
              "          9.561437e-01,  2.757734e-01,  1.952846e-01],\n",
              "        [-1.402409e-03,  6.763795e-03,  3.088124e-03, ...,\n",
              "          9.587269e-01,  2.716740e-01,  1.935522e-01]],\n",
              "\n",
              "       [[-1.279187e-03,  9.286310e-05,  5.930449e-04, ...,\n",
              "          1.395704e-01,  9.062297e-01,  3.999701e-01],\n",
              "        [-1.068211e-03, -3.005638e-04,  5.532535e-04, ...,\n",
              "          1.397788e-01,  9.058423e-01,  3.998831e-01],\n",
              "        [-2.127684e-03,  1.039847e-03, -1.189422e-03, ...,\n",
              "          1.387167e-01,  9.071892e-01,  3.980934e-01],\n",
              "        ...,\n",
              "        [-2.371172e-03,  1.795719e-03,  1.083396e-03, ...,\n",
              "          1.361827e-01,  9.090822e-01,  3.988484e-01],\n",
              "        [ 1.420588e-04, -4.097844e-03,  4.202178e-04, ...,\n",
              "          1.386940e-01,  9.032116e-01,  3.981867e-01],\n",
              "        [ 2.969945e-03, -1.083727e-02,  9.327122e-04, ...,\n",
              "          1.415205e-01,  8.964951e-01,  3.987019e-01]],\n",
              "\n",
              "       [[ 1.574893e-03, -3.203109e-03, -1.503525e-02, ...,\n",
              "          9.277784e-01,  3.484991e-01, -2.016067e-01],\n",
              "        [-7.124049e-04, -1.176282e-03, -1.342436e-02, ...,\n",
              "          9.254854e-01,  3.500824e-01, -2.001209e-01],\n",
              "        [-2.819302e-05,  2.549802e-03, -8.591107e-03, ...,\n",
              "          9.261683e-01,  3.533838e-01, -1.954135e-01],\n",
              "        ...,\n",
              "        [-5.681590e-03, -3.583504e-03, -3.661815e-03, ...,\n",
              "          9.211207e-01,  3.521603e-01, -2.007039e-01],\n",
              "        [-6.014204e-03, -6.381264e-03, -2.871756e-03, ...,\n",
              "          9.207717e-01,  3.493977e-01, -1.999900e-01],\n",
              "        [-3.918678e-03, -1.519689e-03, -1.017020e-02, ...,\n",
              "          9.228504e-01,  3.542930e-01, -2.073637e-01]]])"
            ]
          },
          "metadata": {
            "tags": []
          },
          "execution_count": 95
        }
      ]
    },
    {
      "metadata": {
        "id": "roTpeSQMnKHa",
        "colab_type": "text"
      },
      "cell_type": "markdown",
      "source": [
        "One hot coding is when each row represents one label and it the nonzero column represents what the label is<br>\n",
        " [0,0,0,0,0,1] <br>\n",
        "           ^ This label is LAYING, which was previously represented with a 5\n",
        "           <br><br>"
      ]
    },
    {
      "metadata": {
        "id": "0LiLobJZnscs",
        "colab_type": "text"
      },
      "cell_type": "markdown",
      "source": [
        "### One hot encoding functions are provided at the bottom of this notebook <br> Use these functions to convert the training, validation and testing labels"
      ]
    },
    {
      "metadata": {
        "id": "gZQJY0rYnKeC",
        "colab_type": "code",
        "colab": {}
      },
      "cell_type": "code",
      "source": [
        "y_train = one_hot(y_train)\n",
        "y_test = one_hot(labels_test)\n",
        "y_val = one_hot(y_val)"
      ],
      "execution_count": 0,
      "outputs": []
    },
    {
      "metadata": {
        "id": "7bi9-LMuotEG",
        "colab_type": "text"
      },
      "cell_type": "markdown",
      "source": [
        "### Define your Keras model <br>\n",
        "You will want to use\n",
        "\n",
        "See for examples on creating Keras modelshttps://github.com/keras-team/keras/blob/master/examples/mnist_cnn.py"
      ]
    },
    {
      "metadata": {
        "id": "9mwwpV8upQYD",
        "colab_type": "code",
        "colab": {
          "base_uri": "https://localhost:8080/",
          "height": 289
        },
        "outputId": "b5cab49f-f66d-4881-e105-52bcd5f6e2f2"
      },
      "cell_type": "code",
      "source": [
        "# fill in with your code below\n",
        "model = keras.Sequential()\n",
        "model.add(keras.layers.Conv1D(filters=18, kernel_size=3, strides=1, padding='same', activation='relu', input_shape=X_train[0].shape))\n",
        "model.add(keras.layers.MaxPooling1D(pool_size=2, padding='valid'))\n",
        "model.add(keras.layers.Flatten())\n",
        "\n",
        "model.add(keras.layers.Dense(y_train[0].shape[0], activation='relu'))\n",
        "print(model.summary())  # view model\n",
        "    \n",
        "    \n"
      ],
      "execution_count": 97,
      "outputs": [
        {
          "output_type": "stream",
          "text": [
            "_________________________________________________________________\n",
            "Layer (type)                 Output Shape              Param #   \n",
            "=================================================================\n",
            "conv1d_8 (Conv1D)            (None, 128, 18)           504       \n",
            "_________________________________________________________________\n",
            "max_pooling1d_8 (MaxPooling1 (None, 64, 18)            0         \n",
            "_________________________________________________________________\n",
            "flatten_1 (Flatten)          (None, 1152)              0         \n",
            "_________________________________________________________________\n",
            "dense_5 (Dense)              (None, 6)                 6918      \n",
            "=================================================================\n",
            "Total params: 7,422\n",
            "Trainable params: 7,422\n",
            "Non-trainable params: 0\n",
            "_________________________________________________________________\n",
            "None\n"
          ],
          "name": "stdout"
        }
      ]
    },
    {
      "metadata": {
        "id": "X844AtBlqV1Y",
        "colab_type": "text"
      },
      "cell_type": "markdown",
      "source": [
        "### Compile your model"
      ]
    },
    {
      "metadata": {
        "id": "6KSPl0lMqUUZ",
        "colab_type": "code",
        "colab": {}
      },
      "cell_type": "code",
      "source": [
        "lr =  .0008# choose a learning rate, this will be a good paramter to tune\n",
        "model.compile( optimizer=tf.train.AdamOptimizer(lr), loss=keras.losses.categorical_crossentropy, metrics = ['accuracy'] )"
      ],
      "execution_count": 0,
      "outputs": []
    },
    {
      "metadata": {
        "id": "pBOK_ZaCq6XR",
        "colab_type": "text"
      },
      "cell_type": "markdown",
      "source": [
        "### Fit your model"
      ]
    },
    {
      "metadata": {
        "id": "6ksWXRzrrCzL",
        "colab_type": "code",
        "colab": {
          "base_uri": "https://localhost:8080/",
          "height": 3454
        },
        "outputId": "3f348c2c-0a15-4209-e226-37b478203ba0"
      },
      "cell_type": "code",
      "source": [
        "history = model.fit(X_train,\n",
        "                    y_train,\n",
        "                    epochs= 100,\n",
        "                    batch_size= 600,\n",
        "                    validation_data=(X_val, y_val),\n",
        "                    verbose=1 \n",
        "                    )"
      ],
      "execution_count": 99,
      "outputs": [
        {
          "output_type": "stream",
          "text": [
            "Train on 5514 samples, validate on 1838 samples\n",
            "Epoch 1/100\n",
            "5514/5514 [==============================] - 1s 139us/step - loss: nan - acc: 0.1563 - val_loss: nan - val_acc: 0.1676\n",
            "Epoch 2/100\n",
            "5514/5514 [==============================] - 1s 96us/step - loss: nan - acc: 0.1665 - val_loss: nan - val_acc: 0.1676\n",
            "Epoch 3/100\n",
            "5514/5514 [==============================] - 0s 88us/step - loss: nan - acc: 0.1665 - val_loss: nan - val_acc: 0.1676\n",
            "Epoch 4/100\n",
            "5514/5514 [==============================] - 1s 91us/step - loss: nan - acc: 0.1665 - val_loss: nan - val_acc: 0.1676\n",
            "Epoch 5/100\n",
            "5514/5514 [==============================] - 0s 87us/step - loss: nan - acc: 0.1665 - val_loss: nan - val_acc: 0.1676\n",
            "Epoch 6/100\n",
            "5514/5514 [==============================] - 0s 89us/step - loss: nan - acc: 0.1665 - val_loss: nan - val_acc: 0.1676\n",
            "Epoch 7/100\n",
            "5514/5514 [==============================] - 0s 89us/step - loss: nan - acc: 0.1665 - val_loss: nan - val_acc: 0.1676\n",
            "Epoch 8/100\n",
            "5514/5514 [==============================] - 0s 89us/step - loss: nan - acc: 0.1665 - val_loss: nan - val_acc: 0.1676\n",
            "Epoch 9/100\n",
            "5514/5514 [==============================] - 0s 87us/step - loss: nan - acc: 0.1665 - val_loss: nan - val_acc: 0.1676\n",
            "Epoch 10/100\n",
            "5514/5514 [==============================] - 0s 89us/step - loss: nan - acc: 0.1665 - val_loss: nan - val_acc: 0.1676\n",
            "Epoch 11/100\n",
            "5514/5514 [==============================] - 0s 85us/step - loss: nan - acc: 0.1665 - val_loss: nan - val_acc: 0.1676\n",
            "Epoch 12/100\n",
            "5514/5514 [==============================] - 0s 87us/step - loss: nan - acc: 0.1665 - val_loss: nan - val_acc: 0.1676\n",
            "Epoch 13/100\n",
            "5514/5514 [==============================] - 0s 86us/step - loss: nan - acc: 0.1665 - val_loss: nan - val_acc: 0.1676\n",
            "Epoch 14/100\n",
            "5514/5514 [==============================] - 0s 87us/step - loss: nan - acc: 0.1665 - val_loss: nan - val_acc: 0.1676\n",
            "Epoch 15/100\n",
            " 600/5514 [==>...........................] - ETA: 0s - loss: nan - acc: 0.2000"
          ],
          "name": "stdout"
        },
        {
          "output_type": "stream",
          "text": [
            "5514/5514 [==============================] - 0s 86us/step - loss: nan - acc: 0.1665 - val_loss: nan - val_acc: 0.1676\n",
            "Epoch 16/100\n",
            "5514/5514 [==============================] - 0s 86us/step - loss: nan - acc: 0.1665 - val_loss: nan - val_acc: 0.1676\n",
            "Epoch 17/100\n",
            "5514/5514 [==============================] - 0s 88us/step - loss: nan - acc: 0.1665 - val_loss: nan - val_acc: 0.1676\n",
            "Epoch 18/100\n",
            "5514/5514 [==============================] - 0s 89us/step - loss: nan - acc: 0.1665 - val_loss: nan - val_acc: 0.1676\n",
            "Epoch 19/100\n",
            "5514/5514 [==============================] - 0s 87us/step - loss: nan - acc: 0.1665 - val_loss: nan - val_acc: 0.1676\n",
            "Epoch 20/100\n",
            "5514/5514 [==============================] - 0s 87us/step - loss: nan - acc: 0.1665 - val_loss: nan - val_acc: 0.1676\n",
            "Epoch 21/100\n",
            "5514/5514 [==============================] - 0s 87us/step - loss: nan - acc: 0.1665 - val_loss: nan - val_acc: 0.1676\n",
            "Epoch 22/100\n",
            "5514/5514 [==============================] - 1s 92us/step - loss: nan - acc: 0.1665 - val_loss: nan - val_acc: 0.1676\n",
            "Epoch 23/100\n",
            "5514/5514 [==============================] - 0s 88us/step - loss: nan - acc: 0.1665 - val_loss: nan - val_acc: 0.1676\n",
            "Epoch 24/100\n",
            "5514/5514 [==============================] - 0s 88us/step - loss: nan - acc: 0.1665 - val_loss: nan - val_acc: 0.1676\n",
            "Epoch 25/100\n",
            "5514/5514 [==============================] - 0s 86us/step - loss: nan - acc: 0.1665 - val_loss: nan - val_acc: 0.1676\n",
            "Epoch 26/100\n",
            "5514/5514 [==============================] - 0s 87us/step - loss: nan - acc: 0.1665 - val_loss: nan - val_acc: 0.1676\n",
            "Epoch 27/100\n",
            "5514/5514 [==============================] - 1s 91us/step - loss: nan - acc: 0.1665 - val_loss: nan - val_acc: 0.1676\n",
            "Epoch 28/100\n",
            "5514/5514 [==============================] - 0s 88us/step - loss: nan - acc: 0.1665 - val_loss: nan - val_acc: 0.1676\n",
            "Epoch 29/100\n",
            "2400/5514 [============>.................] - ETA: 0s - loss: nan - acc: 0.1733"
          ],
          "name": "stdout"
        },
        {
          "output_type": "stream",
          "text": [
            "5514/5514 [==============================] - 0s 88us/step - loss: nan - acc: 0.1665 - val_loss: nan - val_acc: 0.1676\n",
            "Epoch 30/100\n",
            "5514/5514 [==============================] - 0s 86us/step - loss: nan - acc: 0.1665 - val_loss: nan - val_acc: 0.1676\n",
            "Epoch 31/100\n",
            "5514/5514 [==============================] - 0s 87us/step - loss: nan - acc: 0.1665 - val_loss: nan - val_acc: 0.1676\n",
            "Epoch 32/100\n",
            "5514/5514 [==============================] - 0s 88us/step - loss: nan - acc: 0.1665 - val_loss: nan - val_acc: 0.1676\n",
            "Epoch 33/100\n",
            "5514/5514 [==============================] - 0s 89us/step - loss: nan - acc: 0.1665 - val_loss: nan - val_acc: 0.1676\n",
            "Epoch 34/100\n",
            "5514/5514 [==============================] - 0s 88us/step - loss: nan - acc: 0.1665 - val_loss: nan - val_acc: 0.1676\n",
            "Epoch 35/100\n",
            "5514/5514 [==============================] - 0s 89us/step - loss: nan - acc: 0.1665 - val_loss: nan - val_acc: 0.1676\n",
            "Epoch 36/100\n",
            "5514/5514 [==============================] - 0s 88us/step - loss: nan - acc: 0.1665 - val_loss: nan - val_acc: 0.1676\n",
            "Epoch 37/100\n",
            "5514/5514 [==============================] - 0s 90us/step - loss: nan - acc: 0.1665 - val_loss: nan - val_acc: 0.1676\n",
            "Epoch 38/100\n",
            "5514/5514 [==============================] - 0s 87us/step - loss: nan - acc: 0.1665 - val_loss: nan - val_acc: 0.1676\n",
            "Epoch 39/100\n",
            "5514/5514 [==============================] - 0s 89us/step - loss: nan - acc: 0.1665 - val_loss: nan - val_acc: 0.1676\n",
            "Epoch 40/100\n",
            "5514/5514 [==============================] - 0s 91us/step - loss: nan - acc: 0.1665 - val_loss: nan - val_acc: 0.1676\n",
            "Epoch 41/100\n",
            "5514/5514 [==============================] - 0s 88us/step - loss: nan - acc: 0.1665 - val_loss: nan - val_acc: 0.1676\n",
            "Epoch 42/100\n",
            "5514/5514 [==============================] - 0s 89us/step - loss: nan - acc: 0.1665 - val_loss: nan - val_acc: 0.1676\n",
            "Epoch 43/100\n",
            "3000/5514 [===============>..............] - ETA: 0s - loss: nan - acc: 0.1670"
          ],
          "name": "stdout"
        },
        {
          "output_type": "stream",
          "text": [
            "5514/5514 [==============================] - 0s 90us/step - loss: nan - acc: 0.1665 - val_loss: nan - val_acc: 0.1676\n",
            "Epoch 44/100\n",
            "5514/5514 [==============================] - 0s 88us/step - loss: nan - acc: 0.1665 - val_loss: nan - val_acc: 0.1676\n",
            "Epoch 45/100\n",
            "5514/5514 [==============================] - 0s 88us/step - loss: nan - acc: 0.1665 - val_loss: nan - val_acc: 0.1676\n",
            "Epoch 46/100\n",
            "5514/5514 [==============================] - 0s 87us/step - loss: nan - acc: 0.1665 - val_loss: nan - val_acc: 0.1676\n",
            "Epoch 47/100\n",
            "5514/5514 [==============================] - 0s 90us/step - loss: nan - acc: 0.1665 - val_loss: nan - val_acc: 0.1676\n",
            "Epoch 48/100\n",
            "5514/5514 [==============================] - 0s 90us/step - loss: nan - acc: 0.1665 - val_loss: nan - val_acc: 0.1676\n",
            "Epoch 49/100\n",
            "5514/5514 [==============================] - 0s 88us/step - loss: nan - acc: 0.1665 - val_loss: nan - val_acc: 0.1676\n",
            "Epoch 50/100\n",
            "5514/5514 [==============================] - 0s 89us/step - loss: nan - acc: 0.1665 - val_loss: nan - val_acc: 0.1676\n",
            "Epoch 51/100\n",
            "5514/5514 [==============================] - 0s 88us/step - loss: nan - acc: 0.1665 - val_loss: nan - val_acc: 0.1676\n",
            "Epoch 52/100\n",
            "5514/5514 [==============================] - 0s 88us/step - loss: nan - acc: 0.1665 - val_loss: nan - val_acc: 0.1676\n",
            "Epoch 53/100\n",
            "5514/5514 [==============================] - 1s 91us/step - loss: nan - acc: 0.1665 - val_loss: nan - val_acc: 0.1676\n",
            "Epoch 54/100\n",
            "5514/5514 [==============================] - 0s 88us/step - loss: nan - acc: 0.1665 - val_loss: nan - val_acc: 0.1676\n",
            "Epoch 55/100\n",
            "5514/5514 [==============================] - 1s 91us/step - loss: nan - acc: 0.1665 - val_loss: nan - val_acc: 0.1676\n",
            "Epoch 56/100\n",
            "5514/5514 [==============================] - 0s 87us/step - loss: nan - acc: 0.1665 - val_loss: nan - val_acc: 0.1676\n",
            "Epoch 57/100\n",
            "3000/5514 [===============>..............] - ETA: 0s - loss: nan - acc: 0.1723"
          ],
          "name": "stdout"
        },
        {
          "output_type": "stream",
          "text": [
            "5514/5514 [==============================] - 0s 87us/step - loss: nan - acc: 0.1665 - val_loss: nan - val_acc: 0.1676\n",
            "Epoch 58/100\n",
            "5514/5514 [==============================] - 0s 88us/step - loss: nan - acc: 0.1665 - val_loss: nan - val_acc: 0.1676\n",
            "Epoch 59/100\n",
            "5514/5514 [==============================] - 0s 90us/step - loss: nan - acc: 0.1665 - val_loss: nan - val_acc: 0.1676\n",
            "Epoch 60/100\n",
            "5514/5514 [==============================] - 0s 89us/step - loss: nan - acc: 0.1665 - val_loss: nan - val_acc: 0.1676\n",
            "Epoch 61/100\n",
            "5514/5514 [==============================] - 0s 88us/step - loss: nan - acc: 0.1665 - val_loss: nan - val_acc: 0.1676\n",
            "Epoch 62/100\n",
            "5514/5514 [==============================] - 0s 87us/step - loss: nan - acc: 0.1665 - val_loss: nan - val_acc: 0.1676\n",
            "Epoch 63/100\n",
            "5514/5514 [==============================] - 0s 88us/step - loss: nan - acc: 0.1665 - val_loss: nan - val_acc: 0.1676\n",
            "Epoch 64/100\n",
            "5514/5514 [==============================] - 0s 89us/step - loss: nan - acc: 0.1665 - val_loss: nan - val_acc: 0.1676\n",
            "Epoch 65/100\n",
            "5514/5514 [==============================] - 0s 89us/step - loss: nan - acc: 0.1665 - val_loss: nan - val_acc: 0.1676\n",
            "Epoch 66/100\n",
            "5514/5514 [==============================] - 0s 89us/step - loss: nan - acc: 0.1665 - val_loss: nan - val_acc: 0.1676\n",
            "Epoch 67/100\n",
            "5514/5514 [==============================] - 0s 88us/step - loss: nan - acc: 0.1665 - val_loss: nan - val_acc: 0.1676\n",
            "Epoch 68/100\n",
            "5514/5514 [==============================] - 0s 88us/step - loss: nan - acc: 0.1665 - val_loss: nan - val_acc: 0.1676\n",
            "Epoch 69/100\n",
            "5514/5514 [==============================] - 0s 87us/step - loss: nan - acc: 0.1665 - val_loss: nan - val_acc: 0.1676\n",
            "Epoch 70/100\n",
            "5514/5514 [==============================] - 0s 89us/step - loss: nan - acc: 0.1665 - val_loss: nan - val_acc: 0.1676\n",
            "Epoch 71/100\n",
            "5400/5514 [============================>.] - ETA: 0s - loss: nan - acc: 0.1663"
          ],
          "name": "stdout"
        },
        {
          "output_type": "stream",
          "text": [
            "\b\b\b\b\b\b\b\b\b\b\b\b\b\b\b\b\b\b\b\b\b\b\b\b\b\b\b\b\b\b\b\b\b\b\b\b\b\b\b\b\b\b\b\b\b\b\b\b\b\b\b\b\b\b\b\b\b\b\b\b\b\b\b\b\b\b\b\b\b\b\b\b\b\b\b\b\b\b\r5514/5514 [==============================] - 1s 91us/step - loss: nan - acc: 0.1665 - val_loss: nan - val_acc: 0.1676\n",
            "Epoch 72/100\n",
            "5514/5514 [==============================] - 0s 88us/step - loss: nan - acc: 0.1665 - val_loss: nan - val_acc: 0.1676\n",
            "Epoch 73/100\n",
            "5514/5514 [==============================] - 0s 88us/step - loss: nan - acc: 0.1665 - val_loss: nan - val_acc: 0.1676\n",
            "Epoch 74/100\n",
            "5514/5514 [==============================] - 0s 86us/step - loss: nan - acc: 0.1665 - val_loss: nan - val_acc: 0.1676\n",
            "Epoch 75/100\n",
            "5514/5514 [==============================] - 0s 88us/step - loss: nan - acc: 0.1665 - val_loss: nan - val_acc: 0.1676\n",
            "Epoch 76/100\n",
            "5514/5514 [==============================] - 0s 87us/step - loss: nan - acc: 0.1665 - val_loss: nan - val_acc: 0.1676\n",
            "Epoch 77/100\n",
            "5514/5514 [==============================] - 0s 89us/step - loss: nan - acc: 0.1665 - val_loss: nan - val_acc: 0.1676\n",
            "Epoch 78/100\n",
            "5514/5514 [==============================] - 0s 90us/step - loss: nan - acc: 0.1665 - val_loss: nan - val_acc: 0.1676\n",
            "Epoch 79/100\n",
            "5514/5514 [==============================] - 0s 89us/step - loss: nan - acc: 0.1665 - val_loss: nan - val_acc: 0.1676\n",
            "Epoch 80/100\n",
            "5514/5514 [==============================] - 0s 89us/step - loss: nan - acc: 0.1665 - val_loss: nan - val_acc: 0.1676\n",
            "Epoch 81/100\n",
            "5514/5514 [==============================] - 0s 89us/step - loss: nan - acc: 0.1665 - val_loss: nan - val_acc: 0.1676\n",
            "Epoch 82/100\n",
            "5514/5514 [==============================] - 0s 86us/step - loss: nan - acc: 0.1665 - val_loss: nan - val_acc: 0.1676\n",
            "Epoch 83/100\n",
            "5514/5514 [==============================] - 0s 91us/step - loss: nan - acc: 0.1665 - val_loss: nan - val_acc: 0.1676\n",
            "Epoch 84/100\n",
            "5514/5514 [==============================] - 1s 93us/step - loss: nan - acc: 0.1665 - val_loss: nan - val_acc: 0.1676\n",
            "Epoch 85/100\n",
            " 600/5514 [==>...........................] - ETA: 0s - loss: nan - acc: 0.1517"
          ],
          "name": "stdout"
        },
        {
          "output_type": "stream",
          "text": [
            "5514/5514 [==============================] - 0s 88us/step - loss: nan - acc: 0.1665 - val_loss: nan - val_acc: 0.1676\n",
            "Epoch 86/100\n",
            "5514/5514 [==============================] - 0s 89us/step - loss: nan - acc: 0.1665 - val_loss: nan - val_acc: 0.1676\n",
            "Epoch 87/100\n",
            "5514/5514 [==============================] - 0s 87us/step - loss: nan - acc: 0.1665 - val_loss: nan - val_acc: 0.1676\n",
            "Epoch 88/100\n",
            "5514/5514 [==============================] - 0s 88us/step - loss: nan - acc: 0.1665 - val_loss: nan - val_acc: 0.1676\n",
            "Epoch 89/100\n",
            "5514/5514 [==============================] - 0s 88us/step - loss: nan - acc: 0.1665 - val_loss: nan - val_acc: 0.1676\n",
            "Epoch 90/100\n",
            "5514/5514 [==============================] - 1s 91us/step - loss: nan - acc: 0.1665 - val_loss: nan - val_acc: 0.1676\n",
            "Epoch 91/100\n",
            "5514/5514 [==============================] - 0s 88us/step - loss: nan - acc: 0.1665 - val_loss: nan - val_acc: 0.1676\n",
            "Epoch 92/100\n",
            "5514/5514 [==============================] - 0s 88us/step - loss: nan - acc: 0.1665 - val_loss: nan - val_acc: 0.1676\n",
            "Epoch 93/100\n",
            "5514/5514 [==============================] - 0s 88us/step - loss: nan - acc: 0.1665 - val_loss: nan - val_acc: 0.1676\n",
            "Epoch 94/100\n",
            "5514/5514 [==============================] - 0s 88us/step - loss: nan - acc: 0.1665 - val_loss: nan - val_acc: 0.1676\n",
            "Epoch 95/100\n",
            "5514/5514 [==============================] - 0s 87us/step - loss: nan - acc: 0.1665 - val_loss: nan - val_acc: 0.1676\n",
            "Epoch 96/100\n",
            "5514/5514 [==============================] - 0s 89us/step - loss: nan - acc: 0.1665 - val_loss: nan - val_acc: 0.1676\n",
            "Epoch 97/100\n",
            "5514/5514 [==============================] - 0s 86us/step - loss: nan - acc: 0.1665 - val_loss: nan - val_acc: 0.1676\n",
            "Epoch 98/100\n",
            "5514/5514 [==============================] - 0s 88us/step - loss: nan - acc: 0.1665 - val_loss: nan - val_acc: 0.1676\n",
            "Epoch 99/100\n",
            "5400/5514 [============================>.] - ETA: 0s - loss: nan - acc: 0.1674"
          ],
          "name": "stdout"
        },
        {
          "output_type": "stream",
          "text": [
            "\b\b\b\b\b\b\b\b\b\b\b\b\b\b\b\b\b\b\b\b\b\b\b\b\b\b\b\b\b\b\b\b\b\b\b\b\b\b\b\b\b\b\b\b\b\b\b\b\b\b\b\b\b\b\b\b\b\b\b\b\b\b\b\b\b\b\b\b\b\b\b\b\b\b\b\b\b\b\r5514/5514 [==============================] - 0s 89us/step - loss: nan - acc: 0.1665 - val_loss: nan - val_acc: 0.1676\n",
            "Epoch 100/100\n",
            "5514/5514 [==============================] - 0s 87us/step - loss: nan - acc: 0.1665 - val_loss: nan - val_acc: 0.1676\n"
          ],
          "name": "stdout"
        }
      ]
    },
    {
      "metadata": {
        "id": "2YXazeH8udoG",
        "colab_type": "text"
      },
      "cell_type": "markdown",
      "source": [
        "### Code below prints the test loss and accuracy <br>\n",
        "### Before you print your accuracy and loss, play around with the parameters!!"
      ]
    },
    {
      "metadata": {
        "id": "k0e7vQOO5w90",
        "colab_type": "code",
        "colab": {
          "base_uri": "https://localhost:8080/",
          "height": 51
        },
        "outputId": "ae1a77be-ff2d-42a6-b8f5-15c77aecd5ef"
      },
      "cell_type": "code",
      "source": [
        "score = model.evaluate(X_test, y_test, verbose=0)\n",
        "print('Test loss:', score[0])\n",
        "print('Test accuracy:', score[1])"
      ],
      "execution_count": 101,
      "outputs": [
        {
          "output_type": "stream",
          "text": [
            "('Test loss:', nan)\n",
            "('Test accuracy:', 0.168306752629793)\n"
          ],
          "name": "stdout"
        }
      ]
    },
    {
      "metadata": {
        "id": "0oQd_q-LxEi8",
        "colab_type": "code",
        "colab": {}
      },
      "cell_type": "code",
      "source": [
        ""
      ],
      "execution_count": 0,
      "outputs": []
    },
    {
      "metadata": {
        "id": "42UVWm_wxEf5",
        "colab_type": "code",
        "colab": {}
      },
      "cell_type": "code",
      "source": [
        ""
      ],
      "execution_count": 0,
      "outputs": []
    },
    {
      "metadata": {
        "id": "DRsI4XwYxFgK",
        "colab_type": "text"
      },
      "cell_type": "markdown",
      "source": [
        "### Provided Functions Below"
      ]
    },
    {
      "metadata": {
        "id": "adnPCq9PuTBq",
        "colab_type": "code",
        "colab": {}
      },
      "cell_type": "code",
      "source": [
        "def read_data_train():\n",
        "  \"\"\" Read data \"\"\"\n",
        "\n",
        "  # Fixed params\n",
        "  n_class = 6\n",
        "  n_steps = 128\n",
        "\n",
        "  label_path = 'https://raw.githubusercontent.com/BeaverWorksMedlytics/datasets/master/week2_conv1d/y_train.txt'\n",
        "  labels = pd.read_csv(label_path, header = None)\n",
        "\n",
        "  list_of_channels = ['body_acc_x', 'body_acc_y', 'body_acc_z', 'body_gyro_x',\n",
        "  'body_gyro_y', 'body_gyro_z', 'total_acc_x', 'total_acc_y', 'total_acc_z']\n",
        "\n",
        "  X = np.zeros((len(labels), n_steps, len(list_of_channels)))\n",
        "\n",
        "  label_path = 'https://raw.githubusercontent.com/BeaverWorksMedlytics/datasets/master/week2_conv1d/IntertialSignals/body_acc_x_train.txt'\n",
        "  dat_ = pd.read_csv(label_path, delim_whitespace = True, header = None)\n",
        "  X[:,:,0] = dat_.as_matrix()\n",
        "\n",
        "  label_path = 'https://raw.githubusercontent.com/BeaverWorksMedlytics/datasets/master/week2_conv1d/IntertialSignals/body_acc_y_train.txt'\n",
        "  dat_ = pd.read_csv(label_path, delim_whitespace = True, header = None)\n",
        "  X[:,:,1] = dat_.as_matrix()\n",
        "\n",
        "  label_path = 'https://raw.githubusercontent.com/BeaverWorksMedlytics/datasets/master/week2_conv1d/IntertialSignals/body_acc_z_train.txt'\n",
        "  dat_ = pd.read_csv(label_path, delim_whitespace = True, header = None)\n",
        "  X[:,:,2] = dat_.as_matrix()\n",
        "\n",
        "  label_path = 'https://raw.githubusercontent.com/BeaverWorksMedlytics/datasets/master/week2_conv1d/IntertialSignals/body_gyro_x_train.txt'\n",
        "  dat_ = pd.read_csv(label_path, delim_whitespace = True, header = None)\n",
        "  X[:,:,3] = dat_.as_matrix()\n",
        "\n",
        "  label_path = 'https://raw.githubusercontent.com/BeaverWorksMedlytics/datasets/master/week2_conv1d/IntertialSignals/body_gyro_y_train.txt'\n",
        "  dat_ = pd.read_csv(label_path, delim_whitespace = True, header = None)\n",
        "  X[:,:,4] = dat_.as_matrix()\n",
        "\n",
        "  label_path = 'https://raw.githubusercontent.com/BeaverWorksMedlytics/datasets/master/week2_conv1d/IntertialSignals/body_gyro_z_train.txt'\n",
        "  dat_ = pd.read_csv(label_path, delim_whitespace = True, header = None)\n",
        "  X[:,:,5] = dat_.as_matrix()\n",
        "\n",
        "  label_path = 'https://raw.githubusercontent.com/BeaverWorksMedlytics/datasets/master/week2_conv1d/IntertialSignals/total_acc_x_train.txt'\n",
        "  dat_ = pd.read_csv(label_path, delim_whitespace = True, header = None)\n",
        "  X[:,:,6] = dat_.as_matrix()\n",
        "\n",
        "  label_path = 'https://raw.githubusercontent.com/BeaverWorksMedlytics/datasets/master/week2_conv1d/IntertialSignals/total_acc_y_train.txt'\n",
        "  dat_ = pd.read_csv(label_path, delim_whitespace = True, header = None)\n",
        "  X[:,:,7] = dat_.as_matrix()\n",
        "\n",
        "  label_path = 'https://raw.githubusercontent.com/BeaverWorksMedlytics/datasets/master/week2_conv1d/IntertialSignals/total_acc_z_train.txt'\n",
        "  dat_ = pd.read_csv(label_path, delim_whitespace = True, header = None)\n",
        "  X[:,:,8] = dat_.as_matrix()\n",
        "\n",
        "\n",
        "  # Return \n",
        "  return X, labels[0].values, list_of_channels"
      ],
      "execution_count": 0,
      "outputs": []
    },
    {
      "metadata": {
        "id": "iDJBOkx9x0HZ",
        "colab_type": "code",
        "colab": {}
      },
      "cell_type": "code",
      "source": [
        "def read_data_test():\n",
        "  \"\"\" Read data \"\"\"\n",
        "\n",
        "  # Fixed params\n",
        "  n_class = 6\n",
        "  n_steps = 128\n",
        "\n",
        "  label_path = 'https://raw.githubusercontent.com/BeaverWorksMedlytics/datasets/master/week2_conv1d/y_test.txt'\n",
        "  labels = pd.read_csv(label_path, header = None)\n",
        "\n",
        "  list_of_channels = ['body_acc_x', 'body_acc_y', 'body_acc_z', 'body_gyro_x',\n",
        "  'body_gyro_y', 'body_gyro_z', 'total_acc_x', 'total_acc_y', 'total_acc_z']\n",
        "\n",
        "  X = np.zeros((len(labels), n_steps, len(list_of_channels)))\n",
        "\n",
        "  label_path = 'https://raw.githubusercontent.com/BeaverWorksMedlytics/datasets/master/week2_conv1d/IntertialSignals/body_acc_x_test.txt'\n",
        "  dat_ = pd.read_csv(label_path, delim_whitespace = True, header = None)\n",
        "  X[:,:,0] = dat_.as_matrix()\n",
        "\n",
        "  label_path = 'https://raw.githubusercontent.com/BeaverWorksMedlytics/datasets/master/week2_conv1d/IntertialSignals/body_acc_y_test.txt'\n",
        "  dat_ = pd.read_csv(label_path, delim_whitespace = True, header = None)\n",
        "  X[:,:,1] = dat_.as_matrix()\n",
        "\n",
        "  label_path = 'https://raw.githubusercontent.com/BeaverWorksMedlytics/datasets/master/week2_conv1d/IntertialSignals/body_acc_z_test.txt'\n",
        "  dat_ = pd.read_csv(label_path, delim_whitespace = True, header = None)\n",
        "  X[:,:,2] = dat_.as_matrix()\n",
        "\n",
        "  label_path = 'https://raw.githubusercontent.com/BeaverWorksMedlytics/datasets/master/week2_conv1d/IntertialSignals/body_gyro_x_test.txt'\n",
        "  dat_ = pd.read_csv(label_path, delim_whitespace = True, header = None)\n",
        "  X[:,:,3] = dat_.as_matrix()\n",
        "\n",
        "  label_path = 'https://raw.githubusercontent.com/BeaverWorksMedlytics/datasets/master/week2_conv1d/IntertialSignals/body_gyro_y_test.txt'\n",
        "  dat_ = pd.read_csv(label_path, delim_whitespace = True, header = None)\n",
        "  X[:,:,4] = dat_.as_matrix()\n",
        "\n",
        "  label_path = 'https://raw.githubusercontent.com/BeaverWorksMedlytics/datasets/master/week2_conv1d/IntertialSignals/body_gyro_z_test.txt'\n",
        "  dat_ = pd.read_csv(label_path, delim_whitespace = True, header = None)\n",
        "  X[:,:,5] = dat_.as_matrix()\n",
        "\n",
        "  label_path = 'https://raw.githubusercontent.com/BeaverWorksMedlytics/datasets/master/week2_conv1d/IntertialSignals/total_acc_x_test.txt'\n",
        "  dat_ = pd.read_csv(label_path, delim_whitespace = True, header = None)\n",
        "  X[:,:,6] = dat_.as_matrix()\n",
        "\n",
        "  label_path = 'https://raw.githubusercontent.com/BeaverWorksMedlytics/datasets/master/week2_conv1d/IntertialSignals/total_acc_y_test.txt'\n",
        "  dat_ = pd.read_csv(label_path, delim_whitespace = True, header = None)\n",
        "  X[:,:,7] = dat_.as_matrix()\n",
        "\n",
        "  label_path = 'https://raw.githubusercontent.com/BeaverWorksMedlytics/datasets/master/week2_conv1d/IntertialSignals/total_acc_z_test.txt'\n",
        "  dat_ = pd.read_csv(label_path, delim_whitespace = True, header = None)\n",
        "  X[:,:,8] = dat_.as_matrix()\n",
        "\n",
        "\n",
        "  # Return \n",
        "  return X, labels[0].values, list_of_channels"
      ],
      "execution_count": 0,
      "outputs": []
    },
    {
      "metadata": {
        "id": "wrog_9co1HhG",
        "colab_type": "code",
        "colab": {}
      },
      "cell_type": "code",
      "source": [
        "def one_hot(labels, n_class = 6):\n",
        "\t\"\"\" One-hot encoding \"\"\"\n",
        "\texpansion = np.eye(n_class)\n",
        "\ty = expansion[:, labels-1].T\n",
        "\tassert y.shape[1] == n_class, \"Wrong number of labels!\"\n",
        "\n",
        "\treturn y"
      ],
      "execution_count": 0,
      "outputs": []
    },
    {
      "metadata": {
        "id": "EYft5h8x1IbU",
        "colab_type": "code",
        "colab": {}
      },
      "cell_type": "code",
      "source": [
        "def get_batches(X, y, batch_size = 100):\n",
        "\t\"\"\" Return a generator for batches \"\"\"\n",
        "\tn_batches = len(X) // batch_size\n",
        "\tX, y = X[:n_batches*batch_size], y[:n_batches*batch_size]\n",
        "\n",
        "\t# Loop over batches and yield\n",
        "\tfor b in range(0, len(X), batch_size):\n",
        "\t\tyield X[b:b+batch_size], y[b:b+batch_size]"
      ],
      "execution_count": 0,
      "outputs": []
    },
    {
      "metadata": {
        "id": "Sfwx7f1icYwo",
        "colab_type": "code",
        "colab": {}
      },
      "cell_type": "code",
      "source": [
        ""
      ],
      "execution_count": 0,
      "outputs": []
    }
  ]
}